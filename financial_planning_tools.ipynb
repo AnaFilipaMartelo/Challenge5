{
 "cells": [
  {
   "cell_type": "markdown",
   "metadata": {},
   "source": [
    "# Financial Planning with APIs and Simulations\n",
    "\n",
    "In this Challenge, you’ll create two financial analysis tools by using a single Jupyter notebook:\n",
    "\n",
    "Part 1: A financial planner for emergencies. The members will be able to use this tool to visualize their current savings. The members can then determine if they have enough reserves for an emergency fund.\n",
    "\n",
    "Part 2: A financial planner for retirement. This tool will forecast the performance of their retirement portfolio in 30 years. To do this, the tool will make an Alpaca API call via the Alpaca SDK to get historical price data for use in Monte Carlo simulations.\n",
    "\n",
    "You’ll use the information from the Monte Carlo simulation to answer questions about the portfolio in your Jupyter notebook.\n",
    "\n"
   ]
  },
  {
   "cell_type": "code",
   "execution_count": 1,
   "metadata": {},
   "outputs": [],
   "source": [
    "# Import the required libraries and dependencies\n",
    "import os\n",
    "import requests\n",
    "import json\n",
    "import pandas as pd\n",
    "from dotenv import load_dotenv\n",
    "import alpaca_trade_api as tradeapi\n",
    "from MCForecastTools import MCSimulation\n",
    "\n",
    "%matplotlib inline"
   ]
  },
  {
   "cell_type": "code",
   "execution_count": 2,
   "metadata": {},
   "outputs": [
    {
     "data": {
      "text/plain": [
       "True"
      ]
     },
     "execution_count": 2,
     "metadata": {},
     "output_type": "execute_result"
    }
   ],
   "source": [
    "# Load the environment variables from the .env file\n",
    "#by calling the load_dotenv function\n",
    "load_dotenv(\"..env\")"
   ]
  },
  {
   "cell_type": "markdown",
   "metadata": {},
   "source": [
    "## Part 1: Create a Financial Planner for Emergencies"
   ]
  },
  {
   "cell_type": "markdown",
   "metadata": {},
   "source": [
    "### Evaluate the Cryptocurrency Wallet by Using the Requests Library\n",
    "\n",
    "In this section, you’ll determine the current value of a member’s cryptocurrency wallet. You’ll collect the current prices for the Bitcoin and Ethereum cryptocurrencies by using the Python Requests library. For the prototype, you’ll assume that the member holds the 1.2 Bitcoins (BTC) and 5.3 Ethereum coins (ETH). To do all this, complete the following steps:\n",
    "\n",
    "1. Create a variable named `monthly_income`, and set its value to `12000`.\n",
    "\n",
    "2. Use the Requests library to get the current price (in US dollars) of Bitcoin (BTC) and Ethereum (ETH) by using the API endpoints that the starter code supplies.\n",
    "\n",
    "3. Navigate the JSON response object to access the current price of each coin, and store each in a variable.\n",
    "\n",
    "    > **Hint** Note the specific identifier for each cryptocurrency in the API JSON response. The Bitcoin identifier is `1`, and the Ethereum identifier is `1027`.\n",
    "\n",
    "4. Calculate the value, in US dollars, of the current amount of each cryptocurrency and of the entire cryptocurrency wallet.\n",
    "\n"
   ]
  },
  {
   "cell_type": "code",
   "execution_count": 3,
   "metadata": {},
   "outputs": [],
   "source": [
    "# The current number of coins for each cryptocurrency asset held in the portfolio.\n",
    "btc_coins = 1.2\n",
    "eth_coins = 5.3"
   ]
  },
  {
   "cell_type": "markdown",
   "metadata": {},
   "source": [
    "#### Step 1: Create a variable named `monthly_income`, and set its value to `12000`."
   ]
  },
  {
   "cell_type": "code",
   "execution_count": 4,
   "metadata": {},
   "outputs": [],
   "source": [
    "# The monthly amount for the member's household income\n",
    "monthly_income=12000\n"
   ]
  },
  {
   "cell_type": "markdown",
   "metadata": {},
   "source": [
    "#### Review the endpoint URLs for the API calls to Free Crypto API in order to get the current pricing information for both BTC and ETH."
   ]
  },
  {
   "cell_type": "code",
   "execution_count": 5,
   "metadata": {},
   "outputs": [],
   "source": [
    "# The Free Crypto API Call endpoint URLs for the held cryptocurrency assets\n",
    "btc_url = \"https://api.alternative.me/v2/ticker/Bitcoin/?convert=USD\"\n",
    "eth_url = \"https://api.alternative.me/v2/ticker/Ethereum/?convert=USD\""
   ]
  },
  {
   "cell_type": "markdown",
   "metadata": {},
   "source": [
    "#### Step 2. Use the Requests library to get the current price (in US dollars) of Bitcoin (BTC) and Ethereum (ETH) by using the API endpoints that the starter code supplied."
   ]
  },
  {
   "cell_type": "code",
   "execution_count": 6,
   "metadata": {},
   "outputs": [
    {
     "name": "stdout",
     "output_type": "stream",
     "text": [
      "{\n",
      "    \"data\": {\n",
      "        \"1\": {\n",
      "            \"circulating_supply\": 19402287,\n",
      "            \"id\": 1,\n",
      "            \"last_updated\": 1686778791,\n",
      "            \"max_supply\": 21000000,\n",
      "            \"name\": \"Bitcoin\",\n",
      "            \"quotes\": {\n",
      "                \"USD\": {\n",
      "                    \"market_cap\": 486776119034,\n",
      "                    \"percent_change_1h\": -0.500787149664883,\n",
      "                    \"percent_change_24h\": -2.87494820334917,\n",
      "                    \"percent_change_7d\": -4.82376337212936,\n",
      "                    \"percentage_change_1h\": -0.500787149664883,\n",
      "                    \"percentage_change_24h\": -2.87494820334917,\n",
      "                    \"percentage_change_7d\": -4.82376337212936,\n",
      "                    \"price\": 25091.0,\n",
      "                    \"volume_24h\": 8106894736\n",
      "                }\n",
      "            },\n",
      "            \"rank\": 1,\n",
      "            \"symbol\": \"BTC\",\n",
      "            \"total_supply\": 19402287,\n",
      "            \"website_slug\": \"bitcoin\"\n",
      "        }\n",
      "    },\n",
      "    \"metadata\": {\n",
      "        \"error\": null,\n",
      "        \"num_cryptocurrencies\": 3119,\n",
      "        \"timestamp\": 1686778791\n",
      "    }\n",
      "}\n"
     ]
    }
   ],
   "source": [
    "# Using the Python requests library, make an API call to access the current price of BTC\n",
    "btc_response = requests.get(btc_url).json()\n",
    "\n",
    "# Use the json.dumps function to review the response data from the API call\n",
    "# Use the indent and sort_keys parameters to make the response object readable\n",
    "print(json.dumps(btc_response, indent=4, sort_keys= True))\n"
   ]
  },
  {
   "cell_type": "code",
   "execution_count": 7,
   "metadata": {},
   "outputs": [
    {
     "name": "stdout",
     "output_type": "stream",
     "text": [
      "{\n",
      "    \"data\": {\n",
      "        \"1027\": {\n",
      "            \"circulating_supply\": 120224091,\n",
      "            \"id\": 1027,\n",
      "            \"last_updated\": 1686778798,\n",
      "            \"max_supply\": 120224091,\n",
      "            \"name\": \"Ethereum\",\n",
      "            \"quotes\": {\n",
      "                \"USD\": {\n",
      "                    \"market_cap\": 197994339252,\n",
      "                    \"percent_change_1h\": -0.442084136396961,\n",
      "                    \"percent_change_24h\": -5.09896736179248,\n",
      "                    \"percent_change_7d\": -10.4983105985192,\n",
      "                    \"percentage_change_1h\": -0.442084136396961,\n",
      "                    \"percentage_change_24h\": -5.09896736179248,\n",
      "                    \"percentage_change_7d\": -10.4983105985192,\n",
      "                    \"price\": 1649.49,\n",
      "                    \"volume_24h\": 7571462726\n",
      "                }\n",
      "            },\n",
      "            \"rank\": 2,\n",
      "            \"symbol\": \"ETH\",\n",
      "            \"total_supply\": 120224091,\n",
      "            \"website_slug\": \"ethereum\"\n",
      "        }\n",
      "    },\n",
      "    \"metadata\": {\n",
      "        \"error\": null,\n",
      "        \"num_cryptocurrencies\": 3119,\n",
      "        \"timestamp\": 1686778798\n",
      "    }\n",
      "}\n"
     ]
    }
   ],
   "source": [
    "# Using the Python requests library, make an API call to access the current price ETH\n",
    "eth_response = requests.get(eth_url).json()\n",
    "\n",
    "# Use the json.dumps function to review the response data from the API call\n",
    "# Use the indent and sort_keys parameters to make the response object readable\n",
    "print(json.dumps(eth_response, indent=4, sort_keys= True))\n"
   ]
  },
  {
   "cell_type": "markdown",
   "metadata": {},
   "source": [
    "#### Step 3: Navigate the JSON response object to access the current price of each coin, and store each in a variable."
   ]
  },
  {
   "cell_type": "code",
   "execution_count": 8,
   "metadata": {},
   "outputs": [
    {
     "name": "stdout",
     "output_type": "stream",
     "text": [
      "25091.0\n"
     ]
    }
   ],
   "source": [
    "# Navigate the BTC response object to access the current price of BTC\n",
    "btc_price = btc_response[\"data\"][\"1\"][\"quotes\"][\"USD\"][\"price\"]\n",
    "\n",
    "# Print the current price of BTC\n",
    "print(btc_price)\n"
   ]
  },
  {
   "cell_type": "code",
   "execution_count": 9,
   "metadata": {},
   "outputs": [
    {
     "name": "stdout",
     "output_type": "stream",
     "text": [
      "1649.49\n"
     ]
    }
   ],
   "source": [
    "# Navigate the BTC response object to access the current price of ETH\n",
    "eth_price =  eth_response[\"data\"][\"1027\"][\"quotes\"][\"USD\"][\"price\"]\n",
    "\n",
    "# Print the current price of ETH\n",
    "print(eth_price)\n"
   ]
  },
  {
   "cell_type": "markdown",
   "metadata": {},
   "source": [
    "### Step 4: Calculate the value, in US dollars, of the current amount of each cryptocurrency and of the entire cryptocurrency wallet."
   ]
  },
  {
   "cell_type": "code",
   "execution_count": 10,
   "metadata": {},
   "outputs": [
    {
     "name": "stdout",
     "output_type": "stream",
     "text": [
      "30109.199999999997\n"
     ]
    }
   ],
   "source": [
    "# Compute the current value of the BTC holding \n",
    "btc_value = btc_price * btc_coins\n",
    "\n",
    "# Print current value of your holding in BTC\n",
    "print(btc_value)\n"
   ]
  },
  {
   "cell_type": "code",
   "execution_count": 11,
   "metadata": {},
   "outputs": [
    {
     "name": "stdout",
     "output_type": "stream",
     "text": [
      "8742.297\n"
     ]
    }
   ],
   "source": [
    "# Compute the current value of the ETH holding \n",
    "eth_value = eth_price * eth_coins\n",
    "\n",
    "# Print current value of your holding in ETH\n",
    "print(eth_value)\n"
   ]
  },
  {
   "cell_type": "code",
   "execution_count": 12,
   "metadata": {},
   "outputs": [
    {
     "name": "stdout",
     "output_type": "stream",
     "text": [
      "38851.496999999996\n"
     ]
    }
   ],
   "source": [
    "# Compute the total value of the cryptocurrency wallet\n",
    "# Add the value of the BTC holding to the value of the ETH holding\n",
    "total_crypto_wallet = btc_value + eth_value\n",
    "\n",
    "# Print current cryptocurrency wallet balance\n",
    "print(total_crypto_wallet)\n"
   ]
  },
  {
   "cell_type": "markdown",
   "metadata": {},
   "source": [
    "### Evaluate the Stock and Bond Holdings by Using the Alpaca SDK\n",
    "\n",
    "In this section, you’ll determine the current value of a member’s stock and bond holdings. You’ll make an API call to Alpaca via the Alpaca SDK to get the current closing prices of the SPDR S&P 500 ETF Trust (ticker: SPY) and of the iShares Core US Aggregate Bond ETF (ticker: AGG). For the prototype, assume that the member holds 110 shares of SPY, which represents the stock portion of their portfolio, and 200 shares of AGG, which represents the bond portion. To do all this, complete the following steps:\n",
    "\n",
    "1. In the `Starter_Code` folder, create an environment file (`.env`) to store the values of your Alpaca API key and Alpaca secret key.\n",
    "\n",
    "2. Set the variables for the Alpaca API and secret keys. Using the Alpaca SDK, create the Alpaca `tradeapi.REST` object. In this object, include the parameters for the Alpaca API key, the secret key, and the version number.\n",
    "\n",
    "3. Set the following parameters for the Alpaca API call:\n",
    "\n",
    "    - `tickers`: Use the tickers for the member’s stock and bond holdings.\n",
    "\n",
    "    - `timeframe`: Use a time frame of one day.\n",
    "\n",
    "    - `start_date` and `end_date`: Use the same date for these parameters, and format them with the date of the previous weekday (or `2020-08-07`). This is because you want the one closing price for the most-recent trading day.\n",
    "\n",
    "4. Get the current closing prices for `SPY` and `AGG` by using the Alpaca `get_bars` function. Format the response as a Pandas DataFrame by including the `df` property at the end of the `get_bars` function.\n",
    "\n",
    "5. Navigating the Alpaca response DataFrame, select the `SPY` and `AGG` closing prices, and store them as variables.\n",
    "\n",
    "6. Calculate the value, in US dollars, of the current amount of shares in each of the stock and bond portions of the portfolio, and print the results.\n"
   ]
  },
  {
   "cell_type": "markdown",
   "metadata": {},
   "source": [
    "#### Review the total number of shares held in both (SPY) and (AGG)."
   ]
  },
  {
   "cell_type": "code",
   "execution_count": 13,
   "metadata": {},
   "outputs": [],
   "source": [
    "# Current amount of shares held in both the stock (SPY) and bond (AGG) portion of the portfolio.\n",
    "spy_shares = 110\n",
    "agg_shares = 200\n"
   ]
  },
  {
   "cell_type": "markdown",
   "metadata": {},
   "source": [
    "#### Step 1: In the `Starter_Code` folder, create an environment file (`.env`) to store the values of your Alpaca API key and Alpaca secret key."
   ]
  },
  {
   "cell_type": "markdown",
   "metadata": {},
   "source": [
    "#### Step 2: Set the variables for the Alpaca API and secret keys. Using the Alpaca SDK, create the Alpaca `tradeapi.REST` object. In this object, include the parameters for the Alpaca API key, the secret key, and the version number."
   ]
  },
  {
   "cell_type": "code",
   "execution_count": 14,
   "metadata": {},
   "outputs": [],
   "source": [
    "# Set the variables for the Alpaca API and secret keys\n",
    "alpaca_api_key= os.getenv(\"ALPACA_API_KEY\")\n",
    "alpaca_secret_key= os.getenv(\"ALPACA_SECRET_KEY\")\n",
    "\n",
    "# Create the Alpaca tradeapi.REST object\n",
    "alpaca = tradeapi.REST(alpaca_api_key, alpaca_secret_key, api_version=\"v2\")\n"
   ]
  },
  {
   "cell_type": "markdown",
   "metadata": {},
   "source": [
    "#### Step 3: Set the following parameters for the Alpaca API call:\n",
    "\n",
    "- `tickers`: Use the tickers for the member’s stock and bond holdings.\n",
    "\n",
    "- `timeframe`: Use a time frame of one day.\n",
    "\n",
    "- `start_date` and `end_date`: Use the same date for these parameters, and format them with the date of the previous weekday (or `2020-08-07`). This is because you want the one closing price for the most-recent trading day.\n"
   ]
  },
  {
   "cell_type": "code",
   "execution_count": 15,
   "metadata": {},
   "outputs": [],
   "source": [
    "# Set the tickers for both the bond and stock portion of the portfolio\n",
    "tickers = [\"SPY\", \"AGG\"]\n",
    "\n",
    "# Set timeframe to 1Day\n",
    "timeframe = \"1Day\"\n",
    "\n",
    "# Format current date as ISO format\n",
    "# Set both the start and end date at the date of your prior weekday \n",
    "# This will give you the closing price of the previous trading day\n",
    "# Get the current date\n",
    "current_date = pd.Timestamp.now().date()\n",
    "# Get the prior weekday\n",
    "prior_weekday = current_date - pd.DateOffset(days=1)\n",
    "while prior_weekday.weekday() >= 5:  # If prior weekday is Saturday or Sunday\n",
    "    prior_weekday -= pd.DateOffset(days=1)\n",
    "    \n",
    "# Format the prior weekday as an ISO-formatted string\n",
    "prior_weekday_str = prior_weekday.isoformat().split('T')[0]\n",
    "# Set both the start and end date at the date of your prior weekday\n",
    "start_date = end_date = prior_weekday_str\n"
   ]
  },
  {
   "cell_type": "markdown",
   "metadata": {},
   "source": [
    "#### Step 4: Get the current closing prices for `SPY` and `AGG` by using the Alpaca `get_bars` function. Format the response as a Pandas DataFrame by including the `df` property at the end of the `get_bars` function."
   ]
  },
  {
   "cell_type": "code",
   "execution_count": 16,
   "metadata": {},
   "outputs": [
    {
     "data": {
      "text/html": [
       "<div>\n",
       "<style scoped>\n",
       "    .dataframe tbody tr th:only-of-type {\n",
       "        vertical-align: middle;\n",
       "    }\n",
       "\n",
       "    .dataframe tbody tr th {\n",
       "        vertical-align: top;\n",
       "    }\n",
       "\n",
       "    .dataframe thead tr th {\n",
       "        text-align: left;\n",
       "    }\n",
       "\n",
       "    .dataframe thead tr:last-of-type th {\n",
       "        text-align: right;\n",
       "    }\n",
       "</style>\n",
       "<table border=\"1\" class=\"dataframe\">\n",
       "  <thead>\n",
       "    <tr>\n",
       "      <th></th>\n",
       "      <th colspan=\"7\" halign=\"left\">SPY</th>\n",
       "      <th colspan=\"7\" halign=\"left\">AGG</th>\n",
       "    </tr>\n",
       "    <tr>\n",
       "      <th></th>\n",
       "      <th>open</th>\n",
       "      <th>high</th>\n",
       "      <th>low</th>\n",
       "      <th>close</th>\n",
       "      <th>volume</th>\n",
       "      <th>trade_count</th>\n",
       "      <th>vwap</th>\n",
       "      <th>open</th>\n",
       "      <th>high</th>\n",
       "      <th>low</th>\n",
       "      <th>close</th>\n",
       "      <th>volume</th>\n",
       "      <th>trade_count</th>\n",
       "      <th>vwap</th>\n",
       "    </tr>\n",
       "    <tr>\n",
       "      <th>timestamp</th>\n",
       "      <th></th>\n",
       "      <th></th>\n",
       "      <th></th>\n",
       "      <th></th>\n",
       "      <th></th>\n",
       "      <th></th>\n",
       "      <th></th>\n",
       "      <th></th>\n",
       "      <th></th>\n",
       "      <th></th>\n",
       "      <th></th>\n",
       "      <th></th>\n",
       "      <th></th>\n",
       "      <th></th>\n",
       "    </tr>\n",
       "  </thead>\n",
       "  <tbody>\n",
       "    <tr>\n",
       "      <th>2023-06-13 04:00:00+00:00</th>\n",
       "      <td>435.32</td>\n",
       "      <td>437.33</td>\n",
       "      <td>434.63</td>\n",
       "      <td>436.66</td>\n",
       "      <td>93708169</td>\n",
       "      <td>661880</td>\n",
       "      <td>435.996625</td>\n",
       "      <td>98.48</td>\n",
       "      <td>98.48</td>\n",
       "      <td>97.6001</td>\n",
       "      <td>97.68</td>\n",
       "      <td>9360386</td>\n",
       "      <td>27839</td>\n",
       "      <td>97.816392</td>\n",
       "    </tr>\n",
       "  </tbody>\n",
       "</table>\n",
       "</div>"
      ],
      "text/plain": [
       "                              SPY                                    \\\n",
       "                             open    high     low   close    volume   \n",
       "timestamp                                                             \n",
       "2023-06-13 04:00:00+00:00  435.32  437.33  434.63  436.66  93708169   \n",
       "\n",
       "                                                     AGG                  \\\n",
       "                          trade_count        vwap   open   high      low   \n",
       "timestamp                                                                  \n",
       "2023-06-13 04:00:00+00:00      661880  435.996625  98.48  98.48  97.6001   \n",
       "\n",
       "                                                                  \n",
       "                           close   volume trade_count       vwap  \n",
       "timestamp                                                         \n",
       "2023-06-13 04:00:00+00:00  97.68  9360386       27839  97.816392  "
      ]
     },
     "execution_count": 16,
     "metadata": {},
     "output_type": "execute_result"
    }
   ],
   "source": [
    "# Use the Alpaca get_bars function to get current closing prices the portfolio\n",
    "# Be sure to set the `df` property after the function to format the response object as a DataFrame\n",
    "portfolio_prices_df = alpaca.get_bars(\n",
    "    tickers,\n",
    "    timeframe,\n",
    "    start = start_date,\n",
    "    end = end_date\n",
    ").df\n",
    "\n",
    "# Reorganize the DataFrame\n",
    "# Separate ticker data\n",
    "SPY = portfolio_prices_df[portfolio_prices_df['symbol']=='SPY'].drop('symbol', axis=1)\n",
    "AGG = portfolio_prices_df[portfolio_prices_df['symbol']=='AGG'].drop('symbol', axis=1)\n",
    "\n",
    "# Concatenate the ticker DataFrames\n",
    "portfolio_prices_df = pd.concat([SPY, AGG],axis=1, keys=['SPY','AGG'])\n",
    "\n",
    "# Review the first 5 rows of the Alpaca DataFrame\n",
    "portfolio_prices_df.head()\n"
   ]
  },
  {
   "cell_type": "markdown",
   "metadata": {},
   "source": [
    "#### Step 5: Navigating the Alpaca response DataFrame, select the `SPY` and `AGG` closing prices, and store them as variables."
   ]
  },
  {
   "cell_type": "code",
   "execution_count": 17,
   "metadata": {},
   "outputs": [
    {
     "name": "stdout",
     "output_type": "stream",
     "text": [
      "97.68\n"
     ]
    }
   ],
   "source": [
    "# Access the closing price for AGG from the Alpaca DataFrame\n",
    "# Converting the value to a floating point number\n",
    "agg_close_price = float(portfolio_prices_df[\"AGG\"][\"close\"])\n",
    "\n",
    "# Print the AGG closing price\n",
    "print(agg_close_price)\n"
   ]
  },
  {
   "cell_type": "code",
   "execution_count": 18,
   "metadata": {},
   "outputs": [
    {
     "name": "stdout",
     "output_type": "stream",
     "text": [
      "436.66\n"
     ]
    }
   ],
   "source": [
    "# Access the closing price for SPY from the Alpaca DataFrame\n",
    "# Converting the value to a floating point number\n",
    "spy_close_price = float(portfolio_prices_df[\"SPY\"][\"close\"])\n",
    "\n",
    "# Print the SPY closing price\n",
    "print(spy_close_price)\n"
   ]
  },
  {
   "cell_type": "markdown",
   "metadata": {},
   "source": [
    "#### Step 6: Calculate the value, in US dollars, of the current amount of shares in each of the stock and bond portions of the portfolio, and print the results."
   ]
  },
  {
   "cell_type": "code",
   "execution_count": 19,
   "metadata": {},
   "outputs": [
    {
     "name": "stdout",
     "output_type": "stream",
     "text": [
      "The current value of the 200 shares of AGG is $19536.00\n"
     ]
    }
   ],
   "source": [
    "# Calculate the current value of the bond portion of the portfolio\n",
    "agg_value = agg_close_price * 200\n",
    "\n",
    "# Print the current value of the bond portfolio\n",
    "print(f\"The current value of the 200 shares of AGG is ${agg_value:0.2f}\")\n"
   ]
  },
  {
   "cell_type": "code",
   "execution_count": 20,
   "metadata": {},
   "outputs": [
    {
     "name": "stdout",
     "output_type": "stream",
     "text": [
      "The current value of the 110 shares of SPY is $48032.60\n"
     ]
    }
   ],
   "source": [
    "# Calculate the current value of the stock portion of the portfolio\n",
    "spy_value = spy_close_price * 110\n",
    "\n",
    "# Print the current value of the stock portfolio\n",
    "print(f\"The current value of the 110 shares of SPY is ${spy_value:0.2f}\")\n"
   ]
  },
  {
   "cell_type": "code",
   "execution_count": 21,
   "metadata": {},
   "outputs": [
    {
     "name": "stdout",
     "output_type": "stream",
     "text": [
      "The current value of the entire portfolio is $67568.60\n"
     ]
    }
   ],
   "source": [
    "# Calculate the total value of the stock and bond portion of the portfolio\n",
    "total_stocks_bonds = agg_value + spy_value\n",
    "\n",
    "# Print the current balance of the stock and bond portion of the portfolio\n",
    "print(f\"The current value of the entire portfolio is ${total_stocks_bonds:0.2f}\")\n"
   ]
  },
  {
   "cell_type": "code",
   "execution_count": 22,
   "metadata": {},
   "outputs": [
    {
     "name": "stdout",
     "output_type": "stream",
     "text": [
      "The value of the entire savings portfolio is $106420.10\n"
     ]
    }
   ],
   "source": [
    "# Calculate the total value of the member's entire savings portfolio\n",
    "# Add the value of the cryptocurrency walled to the value of the total stocks and bonds\n",
    "total_portfolio = total_stocks_bonds + total_crypto_wallet\n",
    "\n",
    "# Print the total value of the member's entire savings portfolio\n",
    "print(f\"The value of the entire savings portfolio is ${total_portfolio:0.2f}\")\n"
   ]
  },
  {
   "cell_type": "markdown",
   "metadata": {},
   "source": [
    "### Evaluate the Emergency Fund\n",
    "\n",
    "In this section, you’ll use the valuations for the cryptocurrency wallet and for the stock and bond portions of the portfolio to determine if the credit union member has enough savings to build an emergency fund into their financial plan. To do this, complete the following steps:\n",
    "\n",
    "1. Create a Python list named `savings_data` that has two elements. The first element contains the total value of the cryptocurrency wallet. The second element contains the total value of the stock and bond portions of the portfolio.\n",
    "\n",
    "2. Use the `savings_data` list to create a Pandas DataFrame named `savings_df`, and then display this DataFrame. The function to create the DataFrame should take the following three parameters:\n",
    "\n",
    "    - `savings_data`: Use the list that you just created.\n",
    "\n",
    "    - `columns`: Set this parameter equal to a Python list with a single value called `amount`.\n",
    "\n",
    "    - `index`: Set this parameter equal to a Python list with the values of `crypto` and `stock/bond`.\n",
    "\n",
    "3. Use the `savings_df` DataFrame to plot a pie chart that visualizes the composition of the member’s portfolio. The y-axis of the pie chart uses `amount`. Be sure to add a title.\n",
    "\n",
    "4. Using Python, determine if the current portfolio has enough to create an emergency fund as part of the member’s financial plan. Ideally, an emergency fund should equal to three times the member’s monthly income. To do this, implement the following steps:\n",
    "\n",
    "    1. Create a variable named `emergency_fund_value`, and set it equal to three times the value of the member’s `monthly_income` of $12000. (You set this earlier in Part 1).\n",
    "\n",
    "    2. Create a series of three if statements to determine if the member’s total portfolio is large enough to fund the emergency portfolio:\n",
    "\n",
    "        1. If the total portfolio value is greater than the emergency fund value, display a message congratulating the member for having enough money in this fund.\n",
    "\n",
    "        2. Else if the total portfolio value is equal to the emergency fund value, display a message congratulating the member on reaching this important financial goal.\n",
    "\n",
    "        3. Else the total portfolio is less than the emergency fund value, so display a message showing how many dollars away the member is from reaching the goal. (Subtract the total portfolio value from the emergency fund value.)\n"
   ]
  },
  {
   "cell_type": "markdown",
   "metadata": {},
   "source": [
    "#### Step 1: Create a Python list named `savings_data` that has two elements. The first element contains the total value of the cryptocurrency wallet. The second element contains the total value of the stock and bond portions of the portfolio."
   ]
  },
  {
   "cell_type": "code",
   "execution_count": 23,
   "metadata": {},
   "outputs": [
    {
     "data": {
      "text/plain": [
       "[38851.496999999996, 67568.6]"
      ]
     },
     "execution_count": 23,
     "metadata": {},
     "output_type": "execute_result"
    }
   ],
   "source": [
    "# Consolidate financial assets data into a Python list\n",
    "savings_data = [total_crypto_wallet, total_stocks_bonds]\n",
    "\n",
    "# Review the Python list savings_data\n",
    "savings_data\n",
    "    "
   ]
  },
  {
   "cell_type": "markdown",
   "metadata": {},
   "source": [
    "#### Step 2: Use the `savings_data` list to create a Pandas DataFrame named `savings_df`, and then display this DataFrame. The function to create the DataFrame should take the following three parameters:\n",
    "\n",
    "- `savings_data`: Use the list that you just created.\n",
    "\n",
    "- `columns`: Set this parameter equal to a Python list with a single value called `amount`.\n",
    "\n",
    "- `index`: Set this parameter equal to a Python list with the values of `crypto` and `stock/bond`.\n"
   ]
  },
  {
   "cell_type": "code",
   "execution_count": 24,
   "metadata": {},
   "outputs": [
    {
     "data": {
      "text/html": [
       "<div>\n",
       "<style scoped>\n",
       "    .dataframe tbody tr th:only-of-type {\n",
       "        vertical-align: middle;\n",
       "    }\n",
       "\n",
       "    .dataframe tbody tr th {\n",
       "        vertical-align: top;\n",
       "    }\n",
       "\n",
       "    .dataframe thead th {\n",
       "        text-align: right;\n",
       "    }\n",
       "</style>\n",
       "<table border=\"1\" class=\"dataframe\">\n",
       "  <thead>\n",
       "    <tr style=\"text-align: right;\">\n",
       "      <th></th>\n",
       "      <th>amount</th>\n",
       "    </tr>\n",
       "  </thead>\n",
       "  <tbody>\n",
       "    <tr>\n",
       "      <th>crypto</th>\n",
       "      <td>38851.497</td>\n",
       "    </tr>\n",
       "    <tr>\n",
       "      <th>stock/bond</th>\n",
       "      <td>67568.600</td>\n",
       "    </tr>\n",
       "  </tbody>\n",
       "</table>\n",
       "</div>"
      ],
      "text/plain": [
       "               amount\n",
       "crypto      38851.497\n",
       "stock/bond  67568.600"
      ]
     },
     "execution_count": 24,
     "metadata": {},
     "output_type": "execute_result"
    }
   ],
   "source": [
    "# Create a Pandas DataFrame called savings_df \n",
    "savings_df = pd.DataFrame(\n",
    "    data = savings_data,\n",
    "    columns = [\"amount\"],\n",
    "    index = [\"crypto\" , \"stock/bond\"]\n",
    "\n",
    ")\n",
    "\n",
    "# Display the savings_df DataFrame\n",
    "savings_df\n"
   ]
  },
  {
   "cell_type": "markdown",
   "metadata": {},
   "source": [
    "#### Step 3: Use the `savings_df` DataFrame to plot a pie chart that visualizes the composition of the member’s portfolio. The y-axis of the pie chart uses `amount`. Be sure to add a title."
   ]
  },
  {
   "cell_type": "code",
   "execution_count": 25,
   "metadata": {},
   "outputs": [
    {
     "data": {
      "text/plain": [
       "<AxesSubplot:title={'center':'Portfolio Composition '}, ylabel='amount'>"
      ]
     },
     "execution_count": 25,
     "metadata": {},
     "output_type": "execute_result"
    },
    {
     "data": {
      "image/png": "[encoded data removed]",
      "text/plain": [
       "<Figure size 640x480 with 1 Axes>"
      ]
     },
     "metadata": {},
     "output_type": "display_data"
    }
   ],
   "source": [
    "# Plot the total value of the member's portfolio (crypto and stock/bond) in a pie chart\n",
    "savings_df.plot.pie(y='amount', title='Portfolio Composition ')\n"
   ]
  },
  {
   "cell_type": "markdown",
   "metadata": {},
   "source": [
    "#### Step 4: Using Python, determine if the current portfolio has enough to create an emergency fund as part of the member’s financial plan. Ideally, an emergency fund should equal to three times the member’s monthly income. To do this, implement the following steps:\n",
    "\n",
    "Step 1. Create a variable named `emergency_fund_value`, and set it equal to three times the value of the member’s `monthly_income` of 12000. (You set this earlier in Part 1).\n",
    "\n",
    "Step 2. Create a series of three if statements to determine if the member’s total portfolio is large enough to fund the emergency portfolio:\n",
    "\n",
    "* If the total portfolio value is greater than the emergency fund value, display a message congratulating the member for having enough money in this fund.\n",
    "\n",
    "* Else if the total portfolio value is equal to the emergency fund value, display a message congratulating the member on reaching this important financial goal.\n",
    "\n",
    "* Else the total portfolio is less than the emergency fund value, so display a message showing how many dollars away the member is from reaching the goal. (Subtract the total portfolio value from the emergency fund value.)\n"
   ]
  },
  {
   "cell_type": "markdown",
   "metadata": {},
   "source": [
    "##### Step 4-1: Create a variable named `emergency_fund_value`, and set it equal to three times the value of the member’s `monthly_income` of 12000. (You set this earlier in Part 1)."
   ]
  },
  {
   "cell_type": "code",
   "execution_count": 26,
   "metadata": {},
   "outputs": [],
   "source": [
    "# Create a variable named emergency_fund_value\n",
    "emergency_fund_value = monthly_income * 3 \n"
   ]
  },
  {
   "cell_type": "markdown",
   "metadata": {},
   "source": [
    "##### Step 4-2: Create a series of three if statements to determine if the member’s total portfolio is large enough to fund the emergency portfolio:\n",
    "\n",
    "* If the total portfolio value is greater than the emergency fund value, display a message congratulating the member for having enough money in this fund.\n",
    "\n",
    "* Else if the total portfolio value is equal to the emergency fund value, display a message congratulating the member on reaching this important financial goal.\n",
    "\n",
    "* Else the total portfolio is less than the emergency fund value, so display a message showing how many dollars away the member is from reaching the goal. (Subtract the total portfolio value from the emergency fund value.)"
   ]
  },
  {
   "cell_type": "code",
   "execution_count": 41,
   "metadata": {},
   "outputs": [
    {
     "name": "stdout",
     "output_type": "stream",
     "text": [
      "Congratulations! You have enough money in this fund.\n"
     ]
    }
   ],
   "source": [
    "# Evaluate the possibility of creating an emergency fund with 3 conditions:\n",
    "if total_portfolio > emergency_fund_value:\n",
    "    print(\"Congratulations! You have enough money in this fund.\")\n",
    "elif total_portfolio == emergency_fund_value:\n",
    "    print(\"Congratulations! You have reached this important financial goal.\")\n",
    "else:\n",
    "    difference = emergency_fund_value - total_portfolio\n",
    "    print(f\"You are ${difference} away from reaching the goal.\") \n"
   ]
  },
  {
   "cell_type": "markdown",
   "metadata": {},
   "source": [
    "## Part 2: Create a Financial Planner for Retirement"
   ]
  },
  {
   "cell_type": "markdown",
   "metadata": {},
   "source": [
    "### Create the Monte Carlo Simulation\n",
    "\n",
    "In this section, you’ll use the MCForecastTools library to create a Monte Carlo simulation for the member’s savings portfolio. To do this, complete the following steps:\n",
    "\n",
    "1. Make an API call via the Alpaca SDK to get 3 years of historical closing prices for a traditional 60/40 portfolio split: 60% stocks (SPY) and 40% bonds (AGG).\n",
    "\n",
    "2. Run a Monte Carlo simulation of 500 samples and 30 years for the 60/40 portfolio, and then plot the results.The following image shows the overlay line plot resulting from a simulation with these characteristics. However, because a random number generator is used to run each live Monte Carlo simulation, your image will differ slightly from this exact image:\n",
    "\n",
    "![A screenshot depicts the resulting plot.](Images/5-4-monte-carlo-line-plot.png)\n",
    "\n",
    "3. Plot the probability distribution of the Monte Carlo simulation. Plot the probability distribution of the Monte Carlo simulation. The following image shows the histogram plot resulting from a simulation with these characteristics. However, because a random number generator is used to run each live Monte Carlo simulation, your image will differ slightly from this exact image:\n",
    "\n",
    "![A screenshot depicts the histogram plot.](Images/5-4-monte-carlo-histogram.png)\n",
    "\n",
    "4. Generate the summary statistics for the Monte Carlo simulation.\n",
    "\n"
   ]
  },
  {
   "cell_type": "markdown",
   "metadata": {},
   "source": [
    "#### Step 1: Make an API call via the Alpaca SDK to get 3 years of historical closing prices for a traditional 60/40 portfolio split: 60% stocks (SPY) and 40% bonds (AGG)."
   ]
  },
  {
   "cell_type": "code",
   "execution_count": 66,
   "metadata": {},
   "outputs": [
    {
     "name": "stdout",
     "output_type": "stream",
     "text": [
      "2020-06-14\n",
      "2023-06-14\n"
     ]
    }
   ],
   "source": [
    "# Set start and end dates of 3 years back from your current date\n",
    "# Alternatively, you can use an end date of 2020-08-07 and work 3 years back from that date \n",
    "end_date = pd.to_datetime(\"2023-06-14\")\n",
    "start_date = (end_date - pd.DateOffset(years=3)).strftime('%Y-%m-%d')\n",
    "#end_date = end_date.strftime('%Y-%m-%d')\n",
    "\n",
    "end_date = \"2023-06-14\"\n",
    "print(start_date)\n",
    "print(end_date)"
   ]
  },
  {
   "cell_type": "code",
   "execution_count": 72,
   "metadata": {},
   "outputs": [
    {
     "data": {
      "text/html": [
       "<div>\n",
       "<style scoped>\n",
       "    .dataframe tbody tr th:only-of-type {\n",
       "        vertical-align: middle;\n",
       "    }\n",
       "\n",
       "    .dataframe tbody tr th {\n",
       "        vertical-align: top;\n",
       "    }\n",
       "\n",
       "    .dataframe thead tr th {\n",
       "        text-align: left;\n",
       "    }\n",
       "\n",
       "    .dataframe thead tr:last-of-type th {\n",
       "        text-align: right;\n",
       "    }\n",
       "</style>\n",
       "<table border=\"1\" class=\"dataframe\">\n",
       "  <thead>\n",
       "    <tr>\n",
       "      <th></th>\n",
       "      <th colspan=\"7\" halign=\"left\">SPY</th>\n",
       "      <th colspan=\"7\" halign=\"left\">AGG</th>\n",
       "    </tr>\n",
       "    <tr>\n",
       "      <th></th>\n",
       "      <th>open</th>\n",
       "      <th>high</th>\n",
       "      <th>low</th>\n",
       "      <th>close</th>\n",
       "      <th>volume</th>\n",
       "      <th>trade_count</th>\n",
       "      <th>vwap</th>\n",
       "      <th>open</th>\n",
       "      <th>high</th>\n",
       "      <th>low</th>\n",
       "      <th>close</th>\n",
       "      <th>volume</th>\n",
       "      <th>trade_count</th>\n",
       "      <th>vwap</th>\n",
       "    </tr>\n",
       "    <tr>\n",
       "      <th>timestamp</th>\n",
       "      <th></th>\n",
       "      <th></th>\n",
       "      <th></th>\n",
       "      <th></th>\n",
       "      <th></th>\n",
       "      <th></th>\n",
       "      <th></th>\n",
       "      <th></th>\n",
       "      <th></th>\n",
       "      <th></th>\n",
       "      <th></th>\n",
       "      <th></th>\n",
       "      <th></th>\n",
       "      <th></th>\n",
       "    </tr>\n",
       "  </thead>\n",
       "  <tbody>\n",
       "    <tr>\n",
       "      <th>2023-06-08 04:00:00+00:00</th>\n",
       "      <td>426.62</td>\n",
       "      <td>429.6000</td>\n",
       "      <td>425.82</td>\n",
       "      <td>429.13</td>\n",
       "      <td>61952842</td>\n",
       "      <td>473941</td>\n",
       "      <td>428.295301</td>\n",
       "      <td>97.80</td>\n",
       "      <td>98.21</td>\n",
       "      <td>97.7700</td>\n",
       "      <td>98.20</td>\n",
       "      <td>5041870</td>\n",
       "      <td>20171</td>\n",
       "      <td>98.110169</td>\n",
       "    </tr>\n",
       "    <tr>\n",
       "      <th>2023-06-09 04:00:00+00:00</th>\n",
       "      <td>429.96</td>\n",
       "      <td>431.9900</td>\n",
       "      <td>428.87</td>\n",
       "      <td>429.90</td>\n",
       "      <td>84009754</td>\n",
       "      <td>581130</td>\n",
       "      <td>430.232433</td>\n",
       "      <td>97.91</td>\n",
       "      <td>98.05</td>\n",
       "      <td>97.7900</td>\n",
       "      <td>97.97</td>\n",
       "      <td>7052968</td>\n",
       "      <td>22613</td>\n",
       "      <td>97.979621</td>\n",
       "    </tr>\n",
       "    <tr>\n",
       "      <th>2023-06-12 04:00:00+00:00</th>\n",
       "      <td>430.92</td>\n",
       "      <td>433.8800</td>\n",
       "      <td>430.17</td>\n",
       "      <td>433.80</td>\n",
       "      <td>76272808</td>\n",
       "      <td>523670</td>\n",
       "      <td>431.957032</td>\n",
       "      <td>98.09</td>\n",
       "      <td>98.16</td>\n",
       "      <td>97.7300</td>\n",
       "      <td>98.14</td>\n",
       "      <td>5436273</td>\n",
       "      <td>24139</td>\n",
       "      <td>97.959299</td>\n",
       "    </tr>\n",
       "    <tr>\n",
       "      <th>2023-06-13 04:00:00+00:00</th>\n",
       "      <td>435.32</td>\n",
       "      <td>437.3300</td>\n",
       "      <td>434.63</td>\n",
       "      <td>436.66</td>\n",
       "      <td>95898626</td>\n",
       "      <td>672828</td>\n",
       "      <td>436.003765</td>\n",
       "      <td>98.48</td>\n",
       "      <td>98.48</td>\n",
       "      <td>97.6001</td>\n",
       "      <td>97.68</td>\n",
       "      <td>9568345</td>\n",
       "      <td>27970</td>\n",
       "      <td>97.819264</td>\n",
       "    </tr>\n",
       "    <tr>\n",
       "      <th>2023-06-14 04:00:00+00:00</th>\n",
       "      <td>437.01</td>\n",
       "      <td>439.0612</td>\n",
       "      <td>433.61</td>\n",
       "      <td>437.18</td>\n",
       "      <td>97155681</td>\n",
       "      <td>686899</td>\n",
       "      <td>436.739402</td>\n",
       "      <td>97.88</td>\n",
       "      <td>97.99</td>\n",
       "      <td>97.4499</td>\n",
       "      <td>97.77</td>\n",
       "      <td>8313588</td>\n",
       "      <td>35976</td>\n",
       "      <td>97.793501</td>\n",
       "    </tr>\n",
       "  </tbody>\n",
       "</table>\n",
       "</div>"
      ],
      "text/plain": [
       "                              SPY                                      \\\n",
       "                             open      high     low   close    volume   \n",
       "timestamp                                                               \n",
       "2023-06-08 04:00:00+00:00  426.62  429.6000  425.82  429.13  61952842   \n",
       "2023-06-09 04:00:00+00:00  429.96  431.9900  428.87  429.90  84009754   \n",
       "2023-06-12 04:00:00+00:00  430.92  433.8800  430.17  433.80  76272808   \n",
       "2023-06-13 04:00:00+00:00  435.32  437.3300  434.63  436.66  95898626   \n",
       "2023-06-14 04:00:00+00:00  437.01  439.0612  433.61  437.18  97155681   \n",
       "\n",
       "                                                     AGG                  \\\n",
       "                          trade_count        vwap   open   high      low   \n",
       "timestamp                                                                  \n",
       "2023-06-08 04:00:00+00:00      473941  428.295301  97.80  98.21  97.7700   \n",
       "2023-06-09 04:00:00+00:00      581130  430.232433  97.91  98.05  97.7900   \n",
       "2023-06-12 04:00:00+00:00      523670  431.957032  98.09  98.16  97.7300   \n",
       "2023-06-13 04:00:00+00:00      672828  436.003765  98.48  98.48  97.6001   \n",
       "2023-06-14 04:00:00+00:00      686899  436.739402  97.88  97.99  97.4499   \n",
       "\n",
       "                                                                  \n",
       "                           close   volume trade_count       vwap  \n",
       "timestamp                                                         \n",
       "2023-06-08 04:00:00+00:00  98.20  5041870       20171  98.110169  \n",
       "2023-06-09 04:00:00+00:00  97.97  7052968       22613  97.979621  \n",
       "2023-06-12 04:00:00+00:00  98.14  5436273       24139  97.959299  \n",
       "2023-06-13 04:00:00+00:00  97.68  9568345       27970  97.819264  \n",
       "2023-06-14 04:00:00+00:00  97.77  8313588       35976  97.793501  "
      ]
     },
     "execution_count": 72,
     "metadata": {},
     "output_type": "execute_result"
    }
   ],
   "source": [
    "# Use the Alpaca get_bars function to make the API call to get the 3 years worth of pricing data\n",
    "# The tickers and timeframe parameters should have been set in Part 1 of this activity \n",
    "# The start and end dates should be updated with the information set above\n",
    "# Remember to add the df property to the end of the call so the response is returned as a DataFrame\n",
    "portfolio_prices_3years_df = alpaca.get_bars(\n",
    "    tickers,\n",
    "    timeframe,\n",
    "    start = start_date,\n",
    "    end = end_date\n",
    ").df\n",
    "\n",
    "portfolio_prices_3years_df\n",
    "\n",
    "# Reorganize the DataFrame\n",
    "# Separate ticker data\n",
    "SPY = portfolio_prices_3years_df[portfolio_prices_3years_df['symbol']=='SPY'].drop('symbol', axis=1)\n",
    "AGG = portfolio_prices_3years_df[portfolio_prices_3years_df['symbol']=='AGG'].drop('symbol', axis=1)\n",
    "\n",
    "# Concatenate the ticker DataFrames\n",
    "portfolio_prices_3years_df = pd.concat([SPY, AGG],axis=1, keys=['SPY','AGG'])\n",
    "\n",
    "# Display both the first and last five rows of the DataFrame\n",
    "portfolio_prices_3years_df.head()\n",
    "portfolio_prices_3years_df.tail()\n"
   ]
  },
  {
   "cell_type": "markdown",
   "metadata": {},
   "source": [
    "#### Step 2: Run a Monte Carlo simulation of 500 samples and 30 years for the 60/40 portfolio, and then plot the results."
   ]
  },
  {
   "cell_type": "code",
   "execution_count": 73,
   "metadata": {},
   "outputs": [
    {
     "data": {
      "text/html": [
       "<div>\n",
       "<style scoped>\n",
       "    .dataframe tbody tr th:only-of-type {\n",
       "        vertical-align: middle;\n",
       "    }\n",
       "\n",
       "    .dataframe tbody tr th {\n",
       "        vertical-align: top;\n",
       "    }\n",
       "\n",
       "    .dataframe thead tr th {\n",
       "        text-align: left;\n",
       "    }\n",
       "\n",
       "    .dataframe thead tr:last-of-type th {\n",
       "        text-align: right;\n",
       "    }\n",
       "</style>\n",
       "<table border=\"1\" class=\"dataframe\">\n",
       "  <thead>\n",
       "    <tr>\n",
       "      <th></th>\n",
       "      <th colspan=\"8\" halign=\"left\">SPY</th>\n",
       "      <th colspan=\"8\" halign=\"left\">AGG</th>\n",
       "    </tr>\n",
       "    <tr>\n",
       "      <th></th>\n",
       "      <th>open</th>\n",
       "      <th>high</th>\n",
       "      <th>low</th>\n",
       "      <th>close</th>\n",
       "      <th>volume</th>\n",
       "      <th>trade_count</th>\n",
       "      <th>vwap</th>\n",
       "      <th>daily_return</th>\n",
       "      <th>open</th>\n",
       "      <th>high</th>\n",
       "      <th>low</th>\n",
       "      <th>close</th>\n",
       "      <th>volume</th>\n",
       "      <th>trade_count</th>\n",
       "      <th>vwap</th>\n",
       "      <th>daily_return</th>\n",
       "    </tr>\n",
       "    <tr>\n",
       "      <th>timestamp</th>\n",
       "      <th></th>\n",
       "      <th></th>\n",
       "      <th></th>\n",
       "      <th></th>\n",
       "      <th></th>\n",
       "      <th></th>\n",
       "      <th></th>\n",
       "      <th></th>\n",
       "      <th></th>\n",
       "      <th></th>\n",
       "      <th></th>\n",
       "      <th></th>\n",
       "      <th></th>\n",
       "      <th></th>\n",
       "      <th></th>\n",
       "      <th></th>\n",
       "    </tr>\n",
       "  </thead>\n",
       "  <tbody>\n",
       "    <tr>\n",
       "      <th>2020-06-15 04:00:00+00:00</th>\n",
       "      <td>298.020</td>\n",
       "      <td>308.28</td>\n",
       "      <td>296.74</td>\n",
       "      <td>307.11</td>\n",
       "      <td>135789334</td>\n",
       "      <td>779013</td>\n",
       "      <td>303.856691</td>\n",
       "      <td>NaN</td>\n",
       "      <td>117.72</td>\n",
       "      <td>117.98</td>\n",
       "      <td>117.61</td>\n",
       "      <td>117.97</td>\n",
       "      <td>5869970</td>\n",
       "      <td>18329</td>\n",
       "      <td>117.849136</td>\n",
       "      <td>NaN</td>\n",
       "    </tr>\n",
       "    <tr>\n",
       "      <th>2020-06-16 04:00:00+00:00</th>\n",
       "      <td>315.480</td>\n",
       "      <td>315.64</td>\n",
       "      <td>307.67</td>\n",
       "      <td>312.75</td>\n",
       "      <td>137623502</td>\n",
       "      <td>808627</td>\n",
       "      <td>312.590425</td>\n",
       "      <td>0.018365</td>\n",
       "      <td>117.98</td>\n",
       "      <td>118.00</td>\n",
       "      <td>117.59</td>\n",
       "      <td>117.74</td>\n",
       "      <td>5327356</td>\n",
       "      <td>22446</td>\n",
       "      <td>117.747372</td>\n",
       "      <td>-0.001950</td>\n",
       "    </tr>\n",
       "    <tr>\n",
       "      <th>2020-06-17 04:00:00+00:00</th>\n",
       "      <td>314.070</td>\n",
       "      <td>314.39</td>\n",
       "      <td>310.86</td>\n",
       "      <td>311.66</td>\n",
       "      <td>83200944</td>\n",
       "      <td>435972</td>\n",
       "      <td>312.635876</td>\n",
       "      <td>-0.003485</td>\n",
       "      <td>117.74</td>\n",
       "      <td>117.76</td>\n",
       "      <td>117.47</td>\n",
       "      <td>117.64</td>\n",
       "      <td>3695970</td>\n",
       "      <td>16218</td>\n",
       "      <td>117.597274</td>\n",
       "      <td>-0.000849</td>\n",
       "    </tr>\n",
       "    <tr>\n",
       "      <th>2020-06-18 04:00:00+00:00</th>\n",
       "      <td>310.005</td>\n",
       "      <td>312.30</td>\n",
       "      <td>309.51</td>\n",
       "      <td>311.76</td>\n",
       "      <td>80828658</td>\n",
       "      <td>419208</td>\n",
       "      <td>311.209852</td>\n",
       "      <td>0.000321</td>\n",
       "      <td>117.88</td>\n",
       "      <td>117.88</td>\n",
       "      <td>117.64</td>\n",
       "      <td>117.76</td>\n",
       "      <td>3356844</td>\n",
       "      <td>12719</td>\n",
       "      <td>117.758197</td>\n",
       "      <td>0.001020</td>\n",
       "    </tr>\n",
       "    <tr>\n",
       "      <th>2020-06-19 04:00:00+00:00</th>\n",
       "      <td>314.170</td>\n",
       "      <td>314.38</td>\n",
       "      <td>306.53</td>\n",
       "      <td>308.54</td>\n",
       "      <td>136935124</td>\n",
       "      <td>606556</td>\n",
       "      <td>310.357197</td>\n",
       "      <td>-0.010328</td>\n",
       "      <td>117.80</td>\n",
       "      <td>117.97</td>\n",
       "      <td>117.74</td>\n",
       "      <td>117.80</td>\n",
       "      <td>2917426</td>\n",
       "      <td>12989</td>\n",
       "      <td>117.801483</td>\n",
       "      <td>0.000340</td>\n",
       "    </tr>\n",
       "  </tbody>\n",
       "</table>\n",
       "</div>"
      ],
      "text/plain": [
       "                               SPY                                     \\\n",
       "                              open    high     low   close     volume   \n",
       "timestamp                                                               \n",
       "2020-06-15 04:00:00+00:00  298.020  308.28  296.74  307.11  135789334   \n",
       "2020-06-16 04:00:00+00:00  315.480  315.64  307.67  312.75  137623502   \n",
       "2020-06-17 04:00:00+00:00  314.070  314.39  310.86  311.66   83200944   \n",
       "2020-06-18 04:00:00+00:00  310.005  312.30  309.51  311.76   80828658   \n",
       "2020-06-19 04:00:00+00:00  314.170  314.38  306.53  308.54  136935124   \n",
       "\n",
       "                                                                   AGG  \\\n",
       "                          trade_count        vwap daily_return    open   \n",
       "timestamp                                                                \n",
       "2020-06-15 04:00:00+00:00      779013  303.856691          NaN  117.72   \n",
       "2020-06-16 04:00:00+00:00      808627  312.590425     0.018365  117.98   \n",
       "2020-06-17 04:00:00+00:00      435972  312.635876    -0.003485  117.74   \n",
       "2020-06-18 04:00:00+00:00      419208  311.209852     0.000321  117.88   \n",
       "2020-06-19 04:00:00+00:00      606556  310.357197    -0.010328  117.80   \n",
       "\n",
       "                                                                        \\\n",
       "                             high     low   close   volume trade_count   \n",
       "timestamp                                                                \n",
       "2020-06-15 04:00:00+00:00  117.98  117.61  117.97  5869970       18329   \n",
       "2020-06-16 04:00:00+00:00  118.00  117.59  117.74  5327356       22446   \n",
       "2020-06-17 04:00:00+00:00  117.76  117.47  117.64  3695970       16218   \n",
       "2020-06-18 04:00:00+00:00  117.88  117.64  117.76  3356844       12719   \n",
       "2020-06-19 04:00:00+00:00  117.97  117.74  117.80  2917426       12989   \n",
       "\n",
       "                                                    \n",
       "                                 vwap daily_return  \n",
       "timestamp                                           \n",
       "2020-06-15 04:00:00+00:00  117.849136          NaN  \n",
       "2020-06-16 04:00:00+00:00  117.747372    -0.001950  \n",
       "2020-06-17 04:00:00+00:00  117.597274    -0.000849  \n",
       "2020-06-18 04:00:00+00:00  117.758197     0.001020  \n",
       "2020-06-19 04:00:00+00:00  117.801483     0.000340  "
      ]
     },
     "execution_count": 73,
     "metadata": {},
     "output_type": "execute_result"
    }
   ],
   "source": [
    "# Configure the Monte Carlo simulation to forecast 30 years cumulative returns\n",
    "# The weights should be split 40% to AGG and 60% to SPY.\n",
    "# Run 500 samples.\n",
    "MC_simulation = MCSimulation(\n",
    "    portfolio_data = portfolio_prices_3years_df,\n",
    "    weights = [.60,.40],\n",
    "    num_simulation = 500,\n",
    "    num_trading_days = 252*30\n",
    ")\n",
    "\n",
    "# Review the simulation input data\n",
    "MC_simulation.portfolio_data.head()\n"
   ]
  },
  {
   "cell_type": "code",
   "execution_count": 74,
   "metadata": {},
   "outputs": [
    {
     "name": "stdout",
     "output_type": "stream",
     "text": [
      "Running Monte Carlo simulation number 0.\n",
      "Running Monte Carlo simulation number 10.\n",
      "Running Monte Carlo simulation number 20.\n",
      "Running Monte Carlo simulation number 30.\n",
      "Running Monte Carlo simulation number 40.\n",
      "Running Monte Carlo simulation number 50.\n",
      "Running Monte Carlo simulation number 60.\n",
      "Running Monte Carlo simulation number 70.\n",
      "Running Monte Carlo simulation number 80.\n",
      "Running Monte Carlo simulation number 90.\n",
      "Running Monte Carlo simulation number 100.\n"
     ]
    },
    {
     "name": "stderr",
     "output_type": "stream",
     "text": [
      "C:\\Users\\anafi_0xil91f\\Desktop\\Fintech-Workspace\\Challenge5\\MCForecastTools.py:117: PerformanceWarning: DataFrame is highly fragmented.  This is usually the result of calling `frame.insert` many times, which has poor performance.  Consider joining all columns at once using pd.concat(axis=1) instead.  To get a de-fragmented frame, use `newframe = frame.copy()`\n",
      "  portfolio_cumulative_returns[n] = (1 + sim_df.fillna(0)).cumprod()\n"
     ]
    },
    {
     "name": "stdout",
     "output_type": "stream",
     "text": [
      "Running Monte Carlo simulation number 110.\n",
      "Running Monte Carlo simulation number 120.\n",
      "Running Monte Carlo simulation number 130.\n",
      "Running Monte Carlo simulation number 140.\n",
      "Running Monte Carlo simulation number 150.\n",
      "Running Monte Carlo simulation number 160.\n",
      "Running Monte Carlo simulation number 170.\n",
      "Running Monte Carlo simulation number 180.\n",
      "Running Monte Carlo simulation number 190.\n",
      "Running Monte Carlo simulation number 200.\n",
      "Running Monte Carlo simulation number 210.\n",
      "Running Monte Carlo simulation number 220.\n",
      "Running Monte Carlo simulation number 230.\n",
      "Running Monte Carlo simulation number 240.\n",
      "Running Monte Carlo simulation number 250.\n",
      "Running Monte Carlo simulation number 260.\n",
      "Running Monte Carlo simulation number 270.\n",
      "Running Monte Carlo simulation number 280.\n",
      "Running Monte Carlo simulation number 290.\n",
      "Running Monte Carlo simulation number 300.\n",
      "Running Monte Carlo simulation number 310.\n",
      "Running Monte Carlo simulation number 320.\n",
      "Running Monte Carlo simulation number 330.\n",
      "Running Monte Carlo simulation number 340.\n",
      "Running Monte Carlo simulation number 350.\n",
      "Running Monte Carlo simulation number 360.\n",
      "Running Monte Carlo simulation number 370.\n",
      "Running Monte Carlo simulation number 380.\n",
      "Running Monte Carlo simulation number 390.\n",
      "Running Monte Carlo simulation number 400.\n",
      "Running Monte Carlo simulation number 410.\n",
      "Running Monte Carlo simulation number 420.\n",
      "Running Monte Carlo simulation number 430.\n",
      "Running Monte Carlo simulation number 440.\n",
      "Running Monte Carlo simulation number 450.\n",
      "Running Monte Carlo simulation number 460.\n",
      "Running Monte Carlo simulation number 470.\n",
      "Running Monte Carlo simulation number 480.\n",
      "Running Monte Carlo simulation number 490.\n"
     ]
    },
    {
     "data": {
      "text/html": [
       "<div>\n",
       "<style scoped>\n",
       "    .dataframe tbody tr th:only-of-type {\n",
       "        vertical-align: middle;\n",
       "    }\n",
       "\n",
       "    .dataframe tbody tr th {\n",
       "        vertical-align: top;\n",
       "    }\n",
       "\n",
       "    .dataframe thead th {\n",
       "        text-align: right;\n",
       "    }\n",
       "</style>\n",
       "<table border=\"1\" class=\"dataframe\">\n",
       "  <thead>\n",
       "    <tr style=\"text-align: right;\">\n",
       "      <th></th>\n",
       "      <th>0</th>\n",
       "      <th>1</th>\n",
       "      <th>2</th>\n",
       "      <th>3</th>\n",
       "      <th>4</th>\n",
       "      <th>5</th>\n",
       "      <th>6</th>\n",
       "      <th>7</th>\n",
       "      <th>8</th>\n",
       "      <th>9</th>\n",
       "      <th>...</th>\n",
       "      <th>490</th>\n",
       "      <th>491</th>\n",
       "      <th>492</th>\n",
       "      <th>493</th>\n",
       "      <th>494</th>\n",
       "      <th>495</th>\n",
       "      <th>496</th>\n",
       "      <th>497</th>\n",
       "      <th>498</th>\n",
       "      <th>499</th>\n",
       "    </tr>\n",
       "  </thead>\n",
       "  <tbody>\n",
       "    <tr>\n",
       "      <th>0</th>\n",
       "      <td>1.000000</td>\n",
       "      <td>1.000000</td>\n",
       "      <td>1.000000</td>\n",
       "      <td>1.000000</td>\n",
       "      <td>1.000000</td>\n",
       "      <td>1.000000</td>\n",
       "      <td>1.000000</td>\n",
       "      <td>1.000000</td>\n",
       "      <td>1.000000</td>\n",
       "      <td>1.000000</td>\n",
       "      <td>...</td>\n",
       "      <td>1.000000</td>\n",
       "      <td>1.000000</td>\n",
       "      <td>1.000000</td>\n",
       "      <td>1.000000</td>\n",
       "      <td>1.000000</td>\n",
       "      <td>1.000000</td>\n",
       "      <td>1.000000</td>\n",
       "      <td>1.000000</td>\n",
       "      <td>1.000000</td>\n",
       "      <td>1.000000</td>\n",
       "    </tr>\n",
       "    <tr>\n",
       "      <th>1</th>\n",
       "      <td>1.004035</td>\n",
       "      <td>1.002608</td>\n",
       "      <td>0.996942</td>\n",
       "      <td>0.998940</td>\n",
       "      <td>1.001839</td>\n",
       "      <td>1.003654</td>\n",
       "      <td>1.002674</td>\n",
       "      <td>0.985372</td>\n",
       "      <td>1.000465</td>\n",
       "      <td>0.990538</td>\n",
       "      <td>...</td>\n",
       "      <td>1.003409</td>\n",
       "      <td>1.000358</td>\n",
       "      <td>0.995768</td>\n",
       "      <td>1.019185</td>\n",
       "      <td>0.993052</td>\n",
       "      <td>1.007987</td>\n",
       "      <td>0.989817</td>\n",
       "      <td>0.997024</td>\n",
       "      <td>1.013300</td>\n",
       "      <td>1.002198</td>\n",
       "    </tr>\n",
       "    <tr>\n",
       "      <th>2</th>\n",
       "      <td>0.999458</td>\n",
       "      <td>1.000100</td>\n",
       "      <td>0.992487</td>\n",
       "      <td>1.002165</td>\n",
       "      <td>0.991394</td>\n",
       "      <td>1.010229</td>\n",
       "      <td>1.003024</td>\n",
       "      <td>0.984658</td>\n",
       "      <td>1.006127</td>\n",
       "      <td>0.990942</td>\n",
       "      <td>...</td>\n",
       "      <td>1.007323</td>\n",
       "      <td>0.986464</td>\n",
       "      <td>0.988588</td>\n",
       "      <td>1.012151</td>\n",
       "      <td>0.989330</td>\n",
       "      <td>0.999121</td>\n",
       "      <td>0.983672</td>\n",
       "      <td>1.004287</td>\n",
       "      <td>1.014475</td>\n",
       "      <td>1.014875</td>\n",
       "    </tr>\n",
       "    <tr>\n",
       "      <th>3</th>\n",
       "      <td>1.004739</td>\n",
       "      <td>0.992259</td>\n",
       "      <td>1.001374</td>\n",
       "      <td>1.003030</td>\n",
       "      <td>0.999855</td>\n",
       "      <td>1.009385</td>\n",
       "      <td>0.993516</td>\n",
       "      <td>0.997040</td>\n",
       "      <td>0.991625</td>\n",
       "      <td>0.990932</td>\n",
       "      <td>...</td>\n",
       "      <td>1.015166</td>\n",
       "      <td>1.004652</td>\n",
       "      <td>0.992625</td>\n",
       "      <td>1.015965</td>\n",
       "      <td>0.998470</td>\n",
       "      <td>1.011439</td>\n",
       "      <td>0.992389</td>\n",
       "      <td>0.993059</td>\n",
       "      <td>1.021814</td>\n",
       "      <td>1.016321</td>\n",
       "    </tr>\n",
       "    <tr>\n",
       "      <th>4</th>\n",
       "      <td>1.010101</td>\n",
       "      <td>0.993386</td>\n",
       "      <td>1.001941</td>\n",
       "      <td>1.006518</td>\n",
       "      <td>1.001892</td>\n",
       "      <td>1.030701</td>\n",
       "      <td>0.987454</td>\n",
       "      <td>0.992353</td>\n",
       "      <td>0.994772</td>\n",
       "      <td>0.996906</td>\n",
       "      <td>...</td>\n",
       "      <td>1.023036</td>\n",
       "      <td>1.004176</td>\n",
       "      <td>0.977789</td>\n",
       "      <td>1.018779</td>\n",
       "      <td>1.004600</td>\n",
       "      <td>1.004601</td>\n",
       "      <td>0.997763</td>\n",
       "      <td>0.993846</td>\n",
       "      <td>1.016592</td>\n",
       "      <td>1.020300</td>\n",
       "    </tr>\n",
       "    <tr>\n",
       "      <th>...</th>\n",
       "      <td>...</td>\n",
       "      <td>...</td>\n",
       "      <td>...</td>\n",
       "      <td>...</td>\n",
       "      <td>...</td>\n",
       "      <td>...</td>\n",
       "      <td>...</td>\n",
       "      <td>...</td>\n",
       "      <td>...</td>\n",
       "      <td>...</td>\n",
       "      <td>...</td>\n",
       "      <td>...</td>\n",
       "      <td>...</td>\n",
       "      <td>...</td>\n",
       "      <td>...</td>\n",
       "      <td>...</td>\n",
       "      <td>...</td>\n",
       "      <td>...</td>\n",
       "      <td>...</td>\n",
       "      <td>...</td>\n",
       "      <td>...</td>\n",
       "    </tr>\n",
       "    <tr>\n",
       "      <th>7556</th>\n",
       "      <td>3.825228</td>\n",
       "      <td>5.260689</td>\n",
       "      <td>3.831964</td>\n",
       "      <td>4.674742</td>\n",
       "      <td>2.767033</td>\n",
       "      <td>5.377933</td>\n",
       "      <td>1.487839</td>\n",
       "      <td>3.770388</td>\n",
       "      <td>6.669914</td>\n",
       "      <td>4.110713</td>\n",
       "      <td>...</td>\n",
       "      <td>4.525872</td>\n",
       "      <td>3.494082</td>\n",
       "      <td>3.892158</td>\n",
       "      <td>3.466452</td>\n",
       "      <td>3.633114</td>\n",
       "      <td>7.236233</td>\n",
       "      <td>3.642684</td>\n",
       "      <td>2.797868</td>\n",
       "      <td>8.634225</td>\n",
       "      <td>21.207101</td>\n",
       "    </tr>\n",
       "    <tr>\n",
       "      <th>7557</th>\n",
       "      <td>3.814725</td>\n",
       "      <td>5.283500</td>\n",
       "      <td>3.854098</td>\n",
       "      <td>4.587854</td>\n",
       "      <td>2.791667</td>\n",
       "      <td>5.424763</td>\n",
       "      <td>1.486431</td>\n",
       "      <td>3.735328</td>\n",
       "      <td>6.747422</td>\n",
       "      <td>4.095733</td>\n",
       "      <td>...</td>\n",
       "      <td>4.464399</td>\n",
       "      <td>3.512338</td>\n",
       "      <td>3.890173</td>\n",
       "      <td>3.453289</td>\n",
       "      <td>3.632786</td>\n",
       "      <td>7.227405</td>\n",
       "      <td>3.697758</td>\n",
       "      <td>2.789295</td>\n",
       "      <td>8.628528</td>\n",
       "      <td>21.383468</td>\n",
       "    </tr>\n",
       "    <tr>\n",
       "      <th>7558</th>\n",
       "      <td>3.834808</td>\n",
       "      <td>5.336428</td>\n",
       "      <td>3.883748</td>\n",
       "      <td>4.554677</td>\n",
       "      <td>2.782736</td>\n",
       "      <td>5.458071</td>\n",
       "      <td>1.478499</td>\n",
       "      <td>3.759569</td>\n",
       "      <td>6.747685</td>\n",
       "      <td>4.154882</td>\n",
       "      <td>...</td>\n",
       "      <td>4.470414</td>\n",
       "      <td>3.513013</td>\n",
       "      <td>3.948729</td>\n",
       "      <td>3.429762</td>\n",
       "      <td>3.636288</td>\n",
       "      <td>7.235966</td>\n",
       "      <td>3.724446</td>\n",
       "      <td>2.743334</td>\n",
       "      <td>8.730764</td>\n",
       "      <td>21.424637</td>\n",
       "    </tr>\n",
       "    <tr>\n",
       "      <th>7559</th>\n",
       "      <td>3.839865</td>\n",
       "      <td>5.351251</td>\n",
       "      <td>3.840707</td>\n",
       "      <td>4.583352</td>\n",
       "      <td>2.790234</td>\n",
       "      <td>5.502785</td>\n",
       "      <td>1.480166</td>\n",
       "      <td>3.759389</td>\n",
       "      <td>6.797352</td>\n",
       "      <td>4.166334</td>\n",
       "      <td>...</td>\n",
       "      <td>4.468847</td>\n",
       "      <td>3.505990</td>\n",
       "      <td>3.978289</td>\n",
       "      <td>3.461944</td>\n",
       "      <td>3.638293</td>\n",
       "      <td>7.224296</td>\n",
       "      <td>3.667416</td>\n",
       "      <td>2.757483</td>\n",
       "      <td>8.676186</td>\n",
       "      <td>21.464771</td>\n",
       "    </tr>\n",
       "    <tr>\n",
       "      <th>7560</th>\n",
       "      <td>3.820167</td>\n",
       "      <td>5.402470</td>\n",
       "      <td>3.865290</td>\n",
       "      <td>4.565853</td>\n",
       "      <td>2.792877</td>\n",
       "      <td>5.551903</td>\n",
       "      <td>1.472923</td>\n",
       "      <td>3.772172</td>\n",
       "      <td>6.742375</td>\n",
       "      <td>4.230588</td>\n",
       "      <td>...</td>\n",
       "      <td>4.478219</td>\n",
       "      <td>3.479446</td>\n",
       "      <td>3.988100</td>\n",
       "      <td>3.471829</td>\n",
       "      <td>3.653262</td>\n",
       "      <td>7.219748</td>\n",
       "      <td>3.665469</td>\n",
       "      <td>2.733436</td>\n",
       "      <td>8.718095</td>\n",
       "      <td>21.493788</td>\n",
       "    </tr>\n",
       "  </tbody>\n",
       "</table>\n",
       "<p>7561 rows × 500 columns</p>\n",
       "</div>"
      ],
      "text/plain": [
       "           0         1         2         3         4         5         6    \\\n",
       "0     1.000000  1.000000  1.000000  1.000000  1.000000  1.000000  1.000000   \n",
       "1     1.004035  1.002608  0.996942  0.998940  1.001839  1.003654  1.002674   \n",
       "2     0.999458  1.000100  0.992487  1.002165  0.991394  1.010229  1.003024   \n",
       "3     1.004739  0.992259  1.001374  1.003030  0.999855  1.009385  0.993516   \n",
       "4     1.010101  0.993386  1.001941  1.006518  1.001892  1.030701  0.987454   \n",
       "...        ...       ...       ...       ...       ...       ...       ...   \n",
       "7556  3.825228  5.260689  3.831964  4.674742  2.767033  5.377933  1.487839   \n",
       "7557  3.814725  5.283500  3.854098  4.587854  2.791667  5.424763  1.486431   \n",
       "7558  3.834808  5.336428  3.883748  4.554677  2.782736  5.458071  1.478499   \n",
       "7559  3.839865  5.351251  3.840707  4.583352  2.790234  5.502785  1.480166   \n",
       "7560  3.820167  5.402470  3.865290  4.565853  2.792877  5.551903  1.472923   \n",
       "\n",
       "           7         8         9    ...       490       491       492  \\\n",
       "0     1.000000  1.000000  1.000000  ...  1.000000  1.000000  1.000000   \n",
       "1     0.985372  1.000465  0.990538  ...  1.003409  1.000358  0.995768   \n",
       "2     0.984658  1.006127  0.990942  ...  1.007323  0.986464  0.988588   \n",
       "3     0.997040  0.991625  0.990932  ...  1.015166  1.004652  0.992625   \n",
       "4     0.992353  0.994772  0.996906  ...  1.023036  1.004176  0.977789   \n",
       "...        ...       ...       ...  ...       ...       ...       ...   \n",
       "7556  3.770388  6.669914  4.110713  ...  4.525872  3.494082  3.892158   \n",
       "7557  3.735328  6.747422  4.095733  ...  4.464399  3.512338  3.890173   \n",
       "7558  3.759569  6.747685  4.154882  ...  4.470414  3.513013  3.948729   \n",
       "7559  3.759389  6.797352  4.166334  ...  4.468847  3.505990  3.978289   \n",
       "7560  3.772172  6.742375  4.230588  ...  4.478219  3.479446  3.988100   \n",
       "\n",
       "           493       494       495       496       497       498        499  \n",
       "0     1.000000  1.000000  1.000000  1.000000  1.000000  1.000000   1.000000  \n",
       "1     1.019185  0.993052  1.007987  0.989817  0.997024  1.013300   1.002198  \n",
       "2     1.012151  0.989330  0.999121  0.983672  1.004287  1.014475   1.014875  \n",
       "3     1.015965  0.998470  1.011439  0.992389  0.993059  1.021814   1.016321  \n",
       "4     1.018779  1.004600  1.004601  0.997763  0.993846  1.016592   1.020300  \n",
       "...        ...       ...       ...       ...       ...       ...        ...  \n",
       "7556  3.466452  3.633114  7.236233  3.642684  2.797868  8.634225  21.207101  \n",
       "7557  3.453289  3.632786  7.227405  3.697758  2.789295  8.628528  21.383468  \n",
       "7558  3.429762  3.636288  7.235966  3.724446  2.743334  8.730764  21.424637  \n",
       "7559  3.461944  3.638293  7.224296  3.667416  2.757483  8.676186  21.464771  \n",
       "7560  3.471829  3.653262  7.219748  3.665469  2.733436  8.718095  21.493788  \n",
       "\n",
       "[7561 rows x 500 columns]"
      ]
     },
     "execution_count": 74,
     "metadata": {},
     "output_type": "execute_result"
    }
   ],
   "source": [
    "# Run the Monte Carlo simulation to forecast 30 years cumulative returns\n",
    "MC_simulation.calc_cumulative_return()\n"
   ]
  },
  {
   "cell_type": "code",
   "execution_count": 75,
   "metadata": {},
   "outputs": [
    {
     "data": {
      "image/png": "[encoded data removed]",
      "text/plain": [
       "<Figure size 640x480 with 1 Axes>"
      ]
     },
     "metadata": {},
     "output_type": "display_data"
    }
   ],
   "source": [
    "# Visualize the 30-year Monte Carlo simulation by creating an\n",
    "# overlay line plot\n",
    "MC_simulation_line_plot = MC_simulation.plot_simulation()\n"
   ]
  },
  {
   "cell_type": "markdown",
   "metadata": {},
   "source": [
    "#### Step 3: Plot the probability distribution of the Monte Carlo simulation."
   ]
  },
  {
   "cell_type": "code",
   "execution_count": 76,
   "metadata": {},
   "outputs": [
    {
     "data": {
      "image/png": "[encoded data removed]",
      "text/plain": [
       "<Figure size 640x480 with 1 Axes>"
      ]
     },
     "metadata": {},
     "output_type": "display_data"
    }
   ],
   "source": [
    "# Visualize the probability distribution of the 30-year Monte Carlo simulation \n",
    "# by plotting a histogram\n",
    "MC_simulation_distribution_plot = MC_simulation.plot_distribution()\n"
   ]
  },
  {
   "cell_type": "markdown",
   "metadata": {},
   "source": [
    "#### Step 4: Generate the summary statistics for the Monte Carlo simulation."
   ]
  },
  {
   "cell_type": "code",
   "execution_count": 77,
   "metadata": {},
   "outputs": [
    {
     "name": "stdout",
     "output_type": "stream",
     "text": [
      "count           500.000000\n",
      "mean              5.619096\n",
      "std               3.905233\n",
      "min               0.639956\n",
      "25%               3.249831\n",
      "50%               4.444233\n",
      "75%               7.020315\n",
      "max              31.917443\n",
      "95% CI Lower      1.502097\n",
      "95% CI Upper     16.827749\n",
      "Name: 7560, dtype: float64\n"
     ]
    }
   ],
   "source": [
    "# Generate summary statistics from the 30-year Monte Carlo simulation results\n",
    "# Save the results as a variable\n",
    "MC_simulation_table = MC_simulation.summarize_cumulative_return()\n",
    "\n",
    "\n",
    "# Review the 30-year Monte Carlo summary statistics\n",
    "print(MC_simulation_table)"
   ]
  },
  {
   "cell_type": "markdown",
   "metadata": {},
   "source": [
    "### Analyze the Retirement Portfolio Forecasts\n",
    "\n",
    "Using the current value of only the stock and bond portion of the member's portfolio and the summary statistics that you generated from the Monte Carlo simulation, answer the following question in your Jupyter notebook:\n",
    "\n",
    "-  What are the lower and upper bounds for the expected value of the portfolio with a 95% confidence interval?\n"
   ]
  },
  {
   "cell_type": "code",
   "execution_count": 78,
   "metadata": {},
   "outputs": [
    {
     "name": "stdout",
     "output_type": "stream",
     "text": [
      "Current balance of the stock and bond portfolio is $67568.6.\n"
     ]
    }
   ],
   "source": [
    "# Print the current balance of the stock and bond portion of the members portfolio\n",
    "print(f\"Current balance of the stock and bond portfolio is ${total_stocks_bonds}.\")\n"
   ]
  },
  {
   "cell_type": "code",
   "execution_count": 79,
   "metadata": {},
   "outputs": [
    {
     "name": "stdout",
     "output_type": "stream",
     "text": [
      "There is a 95% chance that the portfolio with a 30% weight in AGG and 60% in SPY over the next 30 years will have an expected value within $101494.57 and $1137027.42.\n"
     ]
    }
   ],
   "source": [
    "# Use the lower and upper `95%` confidence intervals to calculate the range of the possible outcomes for the current stock/bond portfolio\n",
    "ci_lower_thirty_cumulative_return = round(MC_simulation_table[8]*total_stocks_bonds,2)\n",
    "ci_upper_thirty_cumulative_return = round(MC_simulation_table[9]*total_stocks_bonds,2)\n",
    "\n",
    "# Print the result of your calculations\n",
    "print(f\"There is a 95% chance that the portfolio\"\n",
    "      f\" with a 30% weight in AGG and 60% in SPY over the next 30 years will have an expected value within\"\n",
    "      f\" ${ci_lower_thirty_cumulative_return} and ${ci_upper_thirty_cumulative_return}.\")\n"
   ]
  },
  {
   "cell_type": "markdown",
   "metadata": {},
   "source": [
    "### Forecast Cumulative Returns in 10 Years\n",
    "\n",
    "The CTO of the credit union is impressed with your work on these planning tools but wonders if 30 years is a long time to wait until retirement. So, your next task is to adjust the retirement portfolio and run a new Monte Carlo simulation to find out if the changes will allow members to retire earlier.\n",
    "\n",
    "For this new Monte Carlo simulation, do the following: \n",
    "\n",
    "- Forecast the cumulative returns for 10 years from now. Because of the shortened investment horizon (30 years to 10 years), the portfolio needs to invest more heavily in the riskier asset&mdash;that is, stock&mdash;to help accumulate wealth for retirement. \n",
    "\n",
    "- Adjust the weights of the retirement portfolio so that the composition for the Monte Carlo simulation consists of 20% bonds and 80% stocks. \n",
    "\n",
    "- Run the simulation over 500 samples, and use the same data that the API call to Alpaca generated.\n",
    "\n",
    "- Based on the new Monte Carlo simulation, answer the following questions in your Jupyter notebook:\n",
    "\n",
    "    - Using the current value of only the stock and bond portion of the member's portfolio and the summary statistics that you generated from the new Monte Carlo simulation, what are the lower and upper bounds for the expected value of the portfolio (with the new weights) with a 95% confidence interval?\n",
    "\n",
    "    - Will weighting the portfolio more heavily toward stocks allow the credit union members to retire after only 10 years?\n"
   ]
  },
  {
   "cell_type": "code",
   "execution_count": 80,
   "metadata": {},
   "outputs": [
    {
     "data": {
      "text/html": [
       "<div>\n",
       "<style scoped>\n",
       "    .dataframe tbody tr th:only-of-type {\n",
       "        vertical-align: middle;\n",
       "    }\n",
       "\n",
       "    .dataframe tbody tr th {\n",
       "        vertical-align: top;\n",
       "    }\n",
       "\n",
       "    .dataframe thead tr th {\n",
       "        text-align: left;\n",
       "    }\n",
       "\n",
       "    .dataframe thead tr:last-of-type th {\n",
       "        text-align: right;\n",
       "    }\n",
       "</style>\n",
       "<table border=\"1\" class=\"dataframe\">\n",
       "  <thead>\n",
       "    <tr>\n",
       "      <th></th>\n",
       "      <th colspan=\"8\" halign=\"left\">SPY</th>\n",
       "      <th colspan=\"8\" halign=\"left\">AGG</th>\n",
       "    </tr>\n",
       "    <tr>\n",
       "      <th></th>\n",
       "      <th>open</th>\n",
       "      <th>high</th>\n",
       "      <th>low</th>\n",
       "      <th>close</th>\n",
       "      <th>volume</th>\n",
       "      <th>trade_count</th>\n",
       "      <th>vwap</th>\n",
       "      <th>daily_return</th>\n",
       "      <th>open</th>\n",
       "      <th>high</th>\n",
       "      <th>low</th>\n",
       "      <th>close</th>\n",
       "      <th>volume</th>\n",
       "      <th>trade_count</th>\n",
       "      <th>vwap</th>\n",
       "      <th>daily_return</th>\n",
       "    </tr>\n",
       "    <tr>\n",
       "      <th>timestamp</th>\n",
       "      <th></th>\n",
       "      <th></th>\n",
       "      <th></th>\n",
       "      <th></th>\n",
       "      <th></th>\n",
       "      <th></th>\n",
       "      <th></th>\n",
       "      <th></th>\n",
       "      <th></th>\n",
       "      <th></th>\n",
       "      <th></th>\n",
       "      <th></th>\n",
       "      <th></th>\n",
       "      <th></th>\n",
       "      <th></th>\n",
       "      <th></th>\n",
       "    </tr>\n",
       "  </thead>\n",
       "  <tbody>\n",
       "    <tr>\n",
       "      <th>2020-06-15 04:00:00+00:00</th>\n",
       "      <td>298.020</td>\n",
       "      <td>308.28</td>\n",
       "      <td>296.74</td>\n",
       "      <td>307.11</td>\n",
       "      <td>135789334</td>\n",
       "      <td>779013</td>\n",
       "      <td>303.856691</td>\n",
       "      <td>NaN</td>\n",
       "      <td>117.72</td>\n",
       "      <td>117.98</td>\n",
       "      <td>117.61</td>\n",
       "      <td>117.97</td>\n",
       "      <td>5869970</td>\n",
       "      <td>18329</td>\n",
       "      <td>117.849136</td>\n",
       "      <td>NaN</td>\n",
       "    </tr>\n",
       "    <tr>\n",
       "      <th>2020-06-16 04:00:00+00:00</th>\n",
       "      <td>315.480</td>\n",
       "      <td>315.64</td>\n",
       "      <td>307.67</td>\n",
       "      <td>312.75</td>\n",
       "      <td>137623502</td>\n",
       "      <td>808627</td>\n",
       "      <td>312.590425</td>\n",
       "      <td>0.018365</td>\n",
       "      <td>117.98</td>\n",
       "      <td>118.00</td>\n",
       "      <td>117.59</td>\n",
       "      <td>117.74</td>\n",
       "      <td>5327356</td>\n",
       "      <td>22446</td>\n",
       "      <td>117.747372</td>\n",
       "      <td>-0.001950</td>\n",
       "    </tr>\n",
       "    <tr>\n",
       "      <th>2020-06-17 04:00:00+00:00</th>\n",
       "      <td>314.070</td>\n",
       "      <td>314.39</td>\n",
       "      <td>310.86</td>\n",
       "      <td>311.66</td>\n",
       "      <td>83200944</td>\n",
       "      <td>435972</td>\n",
       "      <td>312.635876</td>\n",
       "      <td>-0.003485</td>\n",
       "      <td>117.74</td>\n",
       "      <td>117.76</td>\n",
       "      <td>117.47</td>\n",
       "      <td>117.64</td>\n",
       "      <td>3695970</td>\n",
       "      <td>16218</td>\n",
       "      <td>117.597274</td>\n",
       "      <td>-0.000849</td>\n",
       "    </tr>\n",
       "    <tr>\n",
       "      <th>2020-06-18 04:00:00+00:00</th>\n",
       "      <td>310.005</td>\n",
       "      <td>312.30</td>\n",
       "      <td>309.51</td>\n",
       "      <td>311.76</td>\n",
       "      <td>80828658</td>\n",
       "      <td>419208</td>\n",
       "      <td>311.209852</td>\n",
       "      <td>0.000321</td>\n",
       "      <td>117.88</td>\n",
       "      <td>117.88</td>\n",
       "      <td>117.64</td>\n",
       "      <td>117.76</td>\n",
       "      <td>3356844</td>\n",
       "      <td>12719</td>\n",
       "      <td>117.758197</td>\n",
       "      <td>0.001020</td>\n",
       "    </tr>\n",
       "    <tr>\n",
       "      <th>2020-06-19 04:00:00+00:00</th>\n",
       "      <td>314.170</td>\n",
       "      <td>314.38</td>\n",
       "      <td>306.53</td>\n",
       "      <td>308.54</td>\n",
       "      <td>136935124</td>\n",
       "      <td>606556</td>\n",
       "      <td>310.357197</td>\n",
       "      <td>-0.010328</td>\n",
       "      <td>117.80</td>\n",
       "      <td>117.97</td>\n",
       "      <td>117.74</td>\n",
       "      <td>117.80</td>\n",
       "      <td>2917426</td>\n",
       "      <td>12989</td>\n",
       "      <td>117.801483</td>\n",
       "      <td>0.000340</td>\n",
       "    </tr>\n",
       "  </tbody>\n",
       "</table>\n",
       "</div>"
      ],
      "text/plain": [
       "                               SPY                                     \\\n",
       "                              open    high     low   close     volume   \n",
       "timestamp                                                               \n",
       "2020-06-15 04:00:00+00:00  298.020  308.28  296.74  307.11  135789334   \n",
       "2020-06-16 04:00:00+00:00  315.480  315.64  307.67  312.75  137623502   \n",
       "2020-06-17 04:00:00+00:00  314.070  314.39  310.86  311.66   83200944   \n",
       "2020-06-18 04:00:00+00:00  310.005  312.30  309.51  311.76   80828658   \n",
       "2020-06-19 04:00:00+00:00  314.170  314.38  306.53  308.54  136935124   \n",
       "\n",
       "                                                                   AGG  \\\n",
       "                          trade_count        vwap daily_return    open   \n",
       "timestamp                                                                \n",
       "2020-06-15 04:00:00+00:00      779013  303.856691          NaN  117.72   \n",
       "2020-06-16 04:00:00+00:00      808627  312.590425     0.018365  117.98   \n",
       "2020-06-17 04:00:00+00:00      435972  312.635876    -0.003485  117.74   \n",
       "2020-06-18 04:00:00+00:00      419208  311.209852     0.000321  117.88   \n",
       "2020-06-19 04:00:00+00:00      606556  310.357197    -0.010328  117.80   \n",
       "\n",
       "                                                                        \\\n",
       "                             high     low   close   volume trade_count   \n",
       "timestamp                                                                \n",
       "2020-06-15 04:00:00+00:00  117.98  117.61  117.97  5869970       18329   \n",
       "2020-06-16 04:00:00+00:00  118.00  117.59  117.74  5327356       22446   \n",
       "2020-06-17 04:00:00+00:00  117.76  117.47  117.64  3695970       16218   \n",
       "2020-06-18 04:00:00+00:00  117.88  117.64  117.76  3356844       12719   \n",
       "2020-06-19 04:00:00+00:00  117.97  117.74  117.80  2917426       12989   \n",
       "\n",
       "                                                    \n",
       "                                 vwap daily_return  \n",
       "timestamp                                           \n",
       "2020-06-15 04:00:00+00:00  117.849136          NaN  \n",
       "2020-06-16 04:00:00+00:00  117.747372    -0.001950  \n",
       "2020-06-17 04:00:00+00:00  117.597274    -0.000849  \n",
       "2020-06-18 04:00:00+00:00  117.758197     0.001020  \n",
       "2020-06-19 04:00:00+00:00  117.801483     0.000340  "
      ]
     },
     "execution_count": 80,
     "metadata": {},
     "output_type": "execute_result"
    }
   ],
   "source": [
    "# Configure a Monte Carlo simulation to forecast 10 years cumulative returns\n",
    "# The weights should be split 20% to AGG and 80% to SPY.\n",
    "# Run 500 samples.\n",
    "MC_simulation_10years = MCSimulation(\n",
    "    portfolio_data = portfolio_prices_3years_df,\n",
    "    weights = [.80,.20],\n",
    "    num_simulation = 500,\n",
    "    num_trading_days = 252*10\n",
    ")\n",
    "\n",
    "# Review the simulation input data\n",
    "MC_simulation_10years.portfolio_data.head()"
   ]
  },
  {
   "cell_type": "code",
   "execution_count": 81,
   "metadata": {},
   "outputs": [
    {
     "name": "stdout",
     "output_type": "stream",
     "text": [
      "Running Monte Carlo simulation number 0.\n",
      "Running Monte Carlo simulation number 10.\n",
      "Running Monte Carlo simulation number 20.\n",
      "Running Monte Carlo simulation number 30.\n",
      "Running Monte Carlo simulation number 40.\n",
      "Running Monte Carlo simulation number 50.\n",
      "Running Monte Carlo simulation number 60.\n",
      "Running Monte Carlo simulation number 70.\n",
      "Running Monte Carlo simulation number 80.\n",
      "Running Monte Carlo simulation number 90.\n",
      "Running Monte Carlo simulation number 100.\n"
     ]
    },
    {
     "name": "stderr",
     "output_type": "stream",
     "text": [
      "C:\\Users\\anafi_0xil91f\\Desktop\\Fintech-Workspace\\Challenge5\\MCForecastTools.py:117: PerformanceWarning: DataFrame is highly fragmented.  This is usually the result of calling `frame.insert` many times, which has poor performance.  Consider joining all columns at once using pd.concat(axis=1) instead.  To get a de-fragmented frame, use `newframe = frame.copy()`\n",
      "  portfolio_cumulative_returns[n] = (1 + sim_df.fillna(0)).cumprod()\n"
     ]
    },
    {
     "name": "stdout",
     "output_type": "stream",
     "text": [
      "Running Monte Carlo simulation number 110.\n",
      "Running Monte Carlo simulation number 120.\n",
      "Running Monte Carlo simulation number 130.\n",
      "Running Monte Carlo simulation number 140.\n",
      "Running Monte Carlo simulation number 150.\n",
      "Running Monte Carlo simulation number 160.\n",
      "Running Monte Carlo simulation number 170.\n",
      "Running Monte Carlo simulation number 180.\n",
      "Running Monte Carlo simulation number 190.\n",
      "Running Monte Carlo simulation number 200.\n",
      "Running Monte Carlo simulation number 210.\n",
      "Running Monte Carlo simulation number 220.\n",
      "Running Monte Carlo simulation number 230.\n",
      "Running Monte Carlo simulation number 240.\n",
      "Running Monte Carlo simulation number 250.\n",
      "Running Monte Carlo simulation number 260.\n",
      "Running Monte Carlo simulation number 270.\n",
      "Running Monte Carlo simulation number 280.\n",
      "Running Monte Carlo simulation number 290.\n",
      "Running Monte Carlo simulation number 300.\n",
      "Running Monte Carlo simulation number 310.\n",
      "Running Monte Carlo simulation number 320.\n",
      "Running Monte Carlo simulation number 330.\n",
      "Running Monte Carlo simulation number 340.\n",
      "Running Monte Carlo simulation number 350.\n",
      "Running Monte Carlo simulation number 360.\n",
      "Running Monte Carlo simulation number 370.\n",
      "Running Monte Carlo simulation number 380.\n",
      "Running Monte Carlo simulation number 390.\n",
      "Running Monte Carlo simulation number 400.\n",
      "Running Monte Carlo simulation number 410.\n",
      "Running Monte Carlo simulation number 420.\n",
      "Running Monte Carlo simulation number 430.\n",
      "Running Monte Carlo simulation number 440.\n",
      "Running Monte Carlo simulation number 450.\n",
      "Running Monte Carlo simulation number 460.\n",
      "Running Monte Carlo simulation number 470.\n",
      "Running Monte Carlo simulation number 480.\n",
      "Running Monte Carlo simulation number 490.\n"
     ]
    },
    {
     "data": {
      "text/html": [
       "<div>\n",
       "<style scoped>\n",
       "    .dataframe tbody tr th:only-of-type {\n",
       "        vertical-align: middle;\n",
       "    }\n",
       "\n",
       "    .dataframe tbody tr th {\n",
       "        vertical-align: top;\n",
       "    }\n",
       "\n",
       "    .dataframe thead th {\n",
       "        text-align: right;\n",
       "    }\n",
       "</style>\n",
       "<table border=\"1\" class=\"dataframe\">\n",
       "  <thead>\n",
       "    <tr style=\"text-align: right;\">\n",
       "      <th></th>\n",
       "      <th>0</th>\n",
       "      <th>1</th>\n",
       "      <th>2</th>\n",
       "      <th>3</th>\n",
       "      <th>4</th>\n",
       "      <th>5</th>\n",
       "      <th>6</th>\n",
       "      <th>7</th>\n",
       "      <th>8</th>\n",
       "      <th>9</th>\n",
       "      <th>...</th>\n",
       "      <th>490</th>\n",
       "      <th>491</th>\n",
       "      <th>492</th>\n",
       "      <th>493</th>\n",
       "      <th>494</th>\n",
       "      <th>495</th>\n",
       "      <th>496</th>\n",
       "      <th>497</th>\n",
       "      <th>498</th>\n",
       "      <th>499</th>\n",
       "    </tr>\n",
       "  </thead>\n",
       "  <tbody>\n",
       "    <tr>\n",
       "      <th>0</th>\n",
       "      <td>1.000000</td>\n",
       "      <td>1.000000</td>\n",
       "      <td>1.000000</td>\n",
       "      <td>1.000000</td>\n",
       "      <td>1.000000</td>\n",
       "      <td>1.000000</td>\n",
       "      <td>1.000000</td>\n",
       "      <td>1.000000</td>\n",
       "      <td>1.000000</td>\n",
       "      <td>1.000000</td>\n",
       "      <td>...</td>\n",
       "      <td>1.000000</td>\n",
       "      <td>1.000000</td>\n",
       "      <td>1.000000</td>\n",
       "      <td>1.000000</td>\n",
       "      <td>1.000000</td>\n",
       "      <td>1.000000</td>\n",
       "      <td>1.000000</td>\n",
       "      <td>1.000000</td>\n",
       "      <td>1.000000</td>\n",
       "      <td>1.000000</td>\n",
       "    </tr>\n",
       "    <tr>\n",
       "      <th>1</th>\n",
       "      <td>0.992591</td>\n",
       "      <td>0.986747</td>\n",
       "      <td>1.003486</td>\n",
       "      <td>1.003434</td>\n",
       "      <td>0.995462</td>\n",
       "      <td>0.976711</td>\n",
       "      <td>1.003600</td>\n",
       "      <td>1.007759</td>\n",
       "      <td>0.999397</td>\n",
       "      <td>0.997670</td>\n",
       "      <td>...</td>\n",
       "      <td>1.004564</td>\n",
       "      <td>0.995384</td>\n",
       "      <td>1.012486</td>\n",
       "      <td>1.008626</td>\n",
       "      <td>1.018156</td>\n",
       "      <td>1.002232</td>\n",
       "      <td>0.981370</td>\n",
       "      <td>1.001559</td>\n",
       "      <td>1.013039</td>\n",
       "      <td>1.003661</td>\n",
       "    </tr>\n",
       "    <tr>\n",
       "      <th>2</th>\n",
       "      <td>1.002754</td>\n",
       "      <td>0.998481</td>\n",
       "      <td>1.000057</td>\n",
       "      <td>1.004529</td>\n",
       "      <td>1.000784</td>\n",
       "      <td>0.978152</td>\n",
       "      <td>1.003473</td>\n",
       "      <td>1.014652</td>\n",
       "      <td>1.005019</td>\n",
       "      <td>0.994662</td>\n",
       "      <td>...</td>\n",
       "      <td>1.006617</td>\n",
       "      <td>0.982521</td>\n",
       "      <td>1.009953</td>\n",
       "      <td>1.018617</td>\n",
       "      <td>1.007893</td>\n",
       "      <td>1.012297</td>\n",
       "      <td>0.982301</td>\n",
       "      <td>0.996269</td>\n",
       "      <td>1.018914</td>\n",
       "      <td>0.988657</td>\n",
       "    </tr>\n",
       "    <tr>\n",
       "      <th>3</th>\n",
       "      <td>1.003826</td>\n",
       "      <td>1.007539</td>\n",
       "      <td>1.013798</td>\n",
       "      <td>0.998643</td>\n",
       "      <td>1.007519</td>\n",
       "      <td>0.987111</td>\n",
       "      <td>1.013210</td>\n",
       "      <td>1.016462</td>\n",
       "      <td>0.993822</td>\n",
       "      <td>1.011178</td>\n",
       "      <td>...</td>\n",
       "      <td>1.012129</td>\n",
       "      <td>0.984513</td>\n",
       "      <td>1.002912</td>\n",
       "      <td>1.023569</td>\n",
       "      <td>0.995169</td>\n",
       "      <td>1.005302</td>\n",
       "      <td>1.003953</td>\n",
       "      <td>0.994181</td>\n",
       "      <td>1.008153</td>\n",
       "      <td>0.997495</td>\n",
       "    </tr>\n",
       "    <tr>\n",
       "      <th>4</th>\n",
       "      <td>1.009524</td>\n",
       "      <td>1.001323</td>\n",
       "      <td>1.023993</td>\n",
       "      <td>1.003091</td>\n",
       "      <td>1.011477</td>\n",
       "      <td>0.978723</td>\n",
       "      <td>1.013389</td>\n",
       "      <td>1.023499</td>\n",
       "      <td>0.989434</td>\n",
       "      <td>1.024318</td>\n",
       "      <td>...</td>\n",
       "      <td>1.006390</td>\n",
       "      <td>0.988226</td>\n",
       "      <td>1.017997</td>\n",
       "      <td>1.019377</td>\n",
       "      <td>1.008193</td>\n",
       "      <td>1.013727</td>\n",
       "      <td>0.991369</td>\n",
       "      <td>0.989014</td>\n",
       "      <td>1.017932</td>\n",
       "      <td>1.005500</td>\n",
       "    </tr>\n",
       "    <tr>\n",
       "      <th>...</th>\n",
       "      <td>...</td>\n",
       "      <td>...</td>\n",
       "      <td>...</td>\n",
       "      <td>...</td>\n",
       "      <td>...</td>\n",
       "      <td>...</td>\n",
       "      <td>...</td>\n",
       "      <td>...</td>\n",
       "      <td>...</td>\n",
       "      <td>...</td>\n",
       "      <td>...</td>\n",
       "      <td>...</td>\n",
       "      <td>...</td>\n",
       "      <td>...</td>\n",
       "      <td>...</td>\n",
       "      <td>...</td>\n",
       "      <td>...</td>\n",
       "      <td>...</td>\n",
       "      <td>...</td>\n",
       "      <td>...</td>\n",
       "      <td>...</td>\n",
       "    </tr>\n",
       "    <tr>\n",
       "      <th>2516</th>\n",
       "      <td>2.942583</td>\n",
       "      <td>1.047723</td>\n",
       "      <td>2.990205</td>\n",
       "      <td>1.764933</td>\n",
       "      <td>1.502181</td>\n",
       "      <td>1.127699</td>\n",
       "      <td>2.379098</td>\n",
       "      <td>2.301823</td>\n",
       "      <td>2.117223</td>\n",
       "      <td>3.997820</td>\n",
       "      <td>...</td>\n",
       "      <td>2.368802</td>\n",
       "      <td>1.869784</td>\n",
       "      <td>1.930093</td>\n",
       "      <td>1.784194</td>\n",
       "      <td>4.746651</td>\n",
       "      <td>1.266890</td>\n",
       "      <td>4.417947</td>\n",
       "      <td>2.619520</td>\n",
       "      <td>4.664061</td>\n",
       "      <td>2.465484</td>\n",
       "    </tr>\n",
       "    <tr>\n",
       "      <th>2517</th>\n",
       "      <td>2.942716</td>\n",
       "      <td>1.058620</td>\n",
       "      <td>2.984916</td>\n",
       "      <td>1.811647</td>\n",
       "      <td>1.529290</td>\n",
       "      <td>1.129366</td>\n",
       "      <td>2.419746</td>\n",
       "      <td>2.281564</td>\n",
       "      <td>2.131314</td>\n",
       "      <td>4.058485</td>\n",
       "      <td>...</td>\n",
       "      <td>2.402068</td>\n",
       "      <td>1.842711</td>\n",
       "      <td>1.944365</td>\n",
       "      <td>1.758012</td>\n",
       "      <td>4.699952</td>\n",
       "      <td>1.276179</td>\n",
       "      <td>4.433981</td>\n",
       "      <td>2.609331</td>\n",
       "      <td>4.737633</td>\n",
       "      <td>2.459184</td>\n",
       "    </tr>\n",
       "    <tr>\n",
       "      <th>2518</th>\n",
       "      <td>2.949656</td>\n",
       "      <td>1.061520</td>\n",
       "      <td>2.985309</td>\n",
       "      <td>1.822910</td>\n",
       "      <td>1.554115</td>\n",
       "      <td>1.139467</td>\n",
       "      <td>2.395593</td>\n",
       "      <td>2.258965</td>\n",
       "      <td>2.125726</td>\n",
       "      <td>4.089605</td>\n",
       "      <td>...</td>\n",
       "      <td>2.354296</td>\n",
       "      <td>1.844924</td>\n",
       "      <td>1.957204</td>\n",
       "      <td>1.758137</td>\n",
       "      <td>4.756600</td>\n",
       "      <td>1.287963</td>\n",
       "      <td>4.440520</td>\n",
       "      <td>2.619403</td>\n",
       "      <td>4.742912</td>\n",
       "      <td>2.454918</td>\n",
       "    </tr>\n",
       "    <tr>\n",
       "      <th>2519</th>\n",
       "      <td>2.950520</td>\n",
       "      <td>1.053139</td>\n",
       "      <td>3.016138</td>\n",
       "      <td>1.804798</td>\n",
       "      <td>1.586935</td>\n",
       "      <td>1.154876</td>\n",
       "      <td>2.418948</td>\n",
       "      <td>2.298747</td>\n",
       "      <td>2.116885</td>\n",
       "      <td>4.109178</td>\n",
       "      <td>...</td>\n",
       "      <td>2.348062</td>\n",
       "      <td>1.874103</td>\n",
       "      <td>1.971491</td>\n",
       "      <td>1.744355</td>\n",
       "      <td>4.795633</td>\n",
       "      <td>1.289199</td>\n",
       "      <td>4.415387</td>\n",
       "      <td>2.604219</td>\n",
       "      <td>4.726098</td>\n",
       "      <td>2.449545</td>\n",
       "    </tr>\n",
       "    <tr>\n",
       "      <th>2520</th>\n",
       "      <td>2.940661</td>\n",
       "      <td>1.044322</td>\n",
       "      <td>3.001472</td>\n",
       "      <td>1.830045</td>\n",
       "      <td>1.590759</td>\n",
       "      <td>1.151402</td>\n",
       "      <td>2.408240</td>\n",
       "      <td>2.314730</td>\n",
       "      <td>2.139380</td>\n",
       "      <td>4.131148</td>\n",
       "      <td>...</td>\n",
       "      <td>2.360361</td>\n",
       "      <td>1.875583</td>\n",
       "      <td>1.987860</td>\n",
       "      <td>1.739561</td>\n",
       "      <td>4.859504</td>\n",
       "      <td>1.293908</td>\n",
       "      <td>4.367048</td>\n",
       "      <td>2.576455</td>\n",
       "      <td>4.734570</td>\n",
       "      <td>2.457376</td>\n",
       "    </tr>\n",
       "  </tbody>\n",
       "</table>\n",
       "<p>2521 rows × 500 columns</p>\n",
       "</div>"
      ],
      "text/plain": [
       "           0         1         2         3         4         5         6    \\\n",
       "0     1.000000  1.000000  1.000000  1.000000  1.000000  1.000000  1.000000   \n",
       "1     0.992591  0.986747  1.003486  1.003434  0.995462  0.976711  1.003600   \n",
       "2     1.002754  0.998481  1.000057  1.004529  1.000784  0.978152  1.003473   \n",
       "3     1.003826  1.007539  1.013798  0.998643  1.007519  0.987111  1.013210   \n",
       "4     1.009524  1.001323  1.023993  1.003091  1.011477  0.978723  1.013389   \n",
       "...        ...       ...       ...       ...       ...       ...       ...   \n",
       "2516  2.942583  1.047723  2.990205  1.764933  1.502181  1.127699  2.379098   \n",
       "2517  2.942716  1.058620  2.984916  1.811647  1.529290  1.129366  2.419746   \n",
       "2518  2.949656  1.061520  2.985309  1.822910  1.554115  1.139467  2.395593   \n",
       "2519  2.950520  1.053139  3.016138  1.804798  1.586935  1.154876  2.418948   \n",
       "2520  2.940661  1.044322  3.001472  1.830045  1.590759  1.151402  2.408240   \n",
       "\n",
       "           7         8         9    ...       490       491       492  \\\n",
       "0     1.000000  1.000000  1.000000  ...  1.000000  1.000000  1.000000   \n",
       "1     1.007759  0.999397  0.997670  ...  1.004564  0.995384  1.012486   \n",
       "2     1.014652  1.005019  0.994662  ...  1.006617  0.982521  1.009953   \n",
       "3     1.016462  0.993822  1.011178  ...  1.012129  0.984513  1.002912   \n",
       "4     1.023499  0.989434  1.024318  ...  1.006390  0.988226  1.017997   \n",
       "...        ...       ...       ...  ...       ...       ...       ...   \n",
       "2516  2.301823  2.117223  3.997820  ...  2.368802  1.869784  1.930093   \n",
       "2517  2.281564  2.131314  4.058485  ...  2.402068  1.842711  1.944365   \n",
       "2518  2.258965  2.125726  4.089605  ...  2.354296  1.844924  1.957204   \n",
       "2519  2.298747  2.116885  4.109178  ...  2.348062  1.874103  1.971491   \n",
       "2520  2.314730  2.139380  4.131148  ...  2.360361  1.875583  1.987860   \n",
       "\n",
       "           493       494       495       496       497       498       499  \n",
       "0     1.000000  1.000000  1.000000  1.000000  1.000000  1.000000  1.000000  \n",
       "1     1.008626  1.018156  1.002232  0.981370  1.001559  1.013039  1.003661  \n",
       "2     1.018617  1.007893  1.012297  0.982301  0.996269  1.018914  0.988657  \n",
       "3     1.023569  0.995169  1.005302  1.003953  0.994181  1.008153  0.997495  \n",
       "4     1.019377  1.008193  1.013727  0.991369  0.989014  1.017932  1.005500  \n",
       "...        ...       ...       ...       ...       ...       ...       ...  \n",
       "2516  1.784194  4.746651  1.266890  4.417947  2.619520  4.664061  2.465484  \n",
       "2517  1.758012  4.699952  1.276179  4.433981  2.609331  4.737633  2.459184  \n",
       "2518  1.758137  4.756600  1.287963  4.440520  2.619403  4.742912  2.454918  \n",
       "2519  1.744355  4.795633  1.289199  4.415387  2.604219  4.726098  2.449545  \n",
       "2520  1.739561  4.859504  1.293908  4.367048  2.576455  4.734570  2.457376  \n",
       "\n",
       "[2521 rows x 500 columns]"
      ]
     },
     "execution_count": 81,
     "metadata": {},
     "output_type": "execute_result"
    }
   ],
   "source": [
    "# Run the Monte Carlo simulation to forecast 10 years cumulative returns\n",
    "MC_simulation_10years.calc_cumulative_return()\n"
   ]
  },
  {
   "cell_type": "code",
   "execution_count": 82,
   "metadata": {},
   "outputs": [
    {
     "data": {
      "image/png": "[encoded data removed]",
      "text/plain": [
       "<Figure size 640x480 with 1 Axes>"
      ]
     },
     "metadata": {},
     "output_type": "display_data"
    }
   ],
   "source": [
    "# Visualize the 10-year Monte Carlo simulation by creating an\n",
    "# overlay line plot\n",
    "MC_simulation_10years_line_plot = MC_simulation_10years.plot_simulation()\n"
   ]
  },
  {
   "cell_type": "code",
   "execution_count": 83,
   "metadata": {},
   "outputs": [
    {
     "data": {
      "image/png": "[encoded data removed]",
      "text/plain": [
       "<Figure size 640x480 with 1 Axes>"
      ]
     },
     "metadata": {},
     "output_type": "display_data"
    }
   ],
   "source": [
    "# Visualize the probability distribution of the 10-year Monte Carlo simulation \n",
    "# by plotting a histogram\n",
    "MC_simulation_10years_distribution_plot = MC_simulation_10years.plot_distribution()\n"
   ]
  },
  {
   "cell_type": "code",
   "execution_count": 84,
   "metadata": {},
   "outputs": [
    {
     "name": "stdout",
     "output_type": "stream",
     "text": [
      "count           500.000000\n",
      "mean              2.506610\n",
      "std               1.196963\n",
      "min               0.629004\n",
      "25%               1.631930\n",
      "50%               2.291558\n",
      "75%               3.103602\n",
      "max               7.795995\n",
      "95% CI Lower      0.901298\n",
      "95% CI Upper      5.408979\n",
      "Name: 2520, dtype: float64\n"
     ]
    }
   ],
   "source": [
    "# Generate summary statistics from the 10-year Monte Carlo simulation results\n",
    "# Save the results as a variable\n",
    "MC_simulation_10years_table = MC_simulation_10years.summarize_cumulative_return()\n",
    "\n",
    "\n",
    "# Review the 10-year Monte Carlo summary statistics\n",
    "print(MC_simulation_10years_table)"
   ]
  },
  {
   "cell_type": "markdown",
   "metadata": {},
   "source": [
    "### Answer the following questions:"
   ]
  },
  {
   "cell_type": "markdown",
   "metadata": {},
   "source": [
    "#### Question: Using the current value of only the stock and bond portion of the member's portfolio and the summary statistics that you generated from the new Monte Carlo simulation, what are the lower and upper bounds for the expected value of the portfolio (with the new weights) with a 95% confidence interval?"
   ]
  },
  {
   "cell_type": "code",
   "execution_count": 85,
   "metadata": {},
   "outputs": [
    {
     "name": "stdout",
     "output_type": "stream",
     "text": [
      "Current balance of the stock and bond portfolio is $67568.6.\n"
     ]
    }
   ],
   "source": [
    "# Print the current balance of the stock and bond portion of the members portfolio\n",
    "print(f\"Current balance of the stock and bond portfolio is ${total_stocks_bonds}.\")\n"
   ]
  },
  {
   "cell_type": "code",
   "execution_count": 86,
   "metadata": {},
   "outputs": [
    {
     "name": "stdout",
     "output_type": "stream",
     "text": [
      "There is a 95% chance that the portfolio with a 20% weight in AGG and 80% in SPY over the next 10 years will have an expected value in the range of $60899.46 and $365477.13.\n"
     ]
    }
   ],
   "source": [
    "# Use the lower and upper `95%` confidence intervals to calculate the range of the possible outcomes for the current stock/bond portfolio\n",
    "ci_lower_ten_cumulative_return =  round(MC_simulation_10years_table[8]*total_stocks_bonds,2)\n",
    "ci_upper_ten_cumulative_return =  round(MC_simulation_10years_table[9]*total_stocks_bonds,2)\n",
    "\n",
    "# Print the result of your calculations\n",
    "print(f\"There is a 95% chance that the portfolio\"\n",
    "      f\" with a 20% weight in AGG and 80% in SPY over the next 10 years will have an expected value in the range of\"\n",
    "      f\" ${ci_lower_ten_cumulative_return} and ${ci_upper_ten_cumulative_return}.\")\n"
   ]
  },
  {
   "cell_type": "markdown",
   "metadata": {},
   "source": [
    "#### Question: Will weighting the portfolio more heavily to stocks allow the credit union members to retire after only 10 years?"
   ]
  },
  {
   "cell_type": "raw",
   "metadata": {},
   "source": [
    "**Answer** Based on the information provided, it is not possible to determine whether weighting the portfolio more heavily towards stocks will allow the credit union members to retire after only 10 years. The expected value range of the portfolio ($60,899.46 to $365,477.13) provides an estimate of the potential outcomes, but it does not provide information about the specific retirement goals or financial needs of the credit union members.\n",
    "Factors such as the desired retirement income, expenses, savings rate, and other investments would need to be considered to evaluate whether the portfolio allocation is sufficient for retirement. "
   ]
  },
  {
   "cell_type": "code",
   "execution_count": null,
   "metadata": {},
   "outputs": [],
   "source": []
  }
 ],
 "metadata": {
  "kernelspec": {
   "display_name": "Python 3 (ipykernel)",
   "language": "python",
   "name": "python3"
  },
  "language_info": {
   "codemirror_mode": {
    "name": "ipython",
    "version": 3
   },
   "file_extension": ".py",
   "mimetype": "text/x-python",
   "name": "python",
   "nbconvert_exporter": "python",
   "pygments_lexer": "ipython3",
   "version": "3.7.13"
  }
 },
 "nbformat": 4,
 "nbformat_minor": 4
}
